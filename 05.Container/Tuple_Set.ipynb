{
  "nbformat": 4,
  "nbformat_minor": 0,
  "metadata": {
    "colab": {
      "name": "Tuple_Set",
      "provenance": [],
      "include_colab_link": true
    },
    "kernelspec": {
      "name": "python3",
      "display_name": "Python 3"
    }
  },
  "cells": [
    {
      "cell_type": "markdown",
      "metadata": {
        "id": "view-in-github",
        "colab_type": "text"
      },
      "source": [
        "<a href=\"https://colab.research.google.com/github/ccwu0918/Python-Programming/blob/master/05.Container/Tuple_Set.ipynb\" target=\"_parent\"><img src=\"https://colab.research.google.com/assets/colab-badge.svg\" alt=\"Open In Colab\"/></a>"
      ]
    },
    {
      "cell_type": "markdown",
      "metadata": {
        "id": "unb8q-dox27Y"
      },
      "source": [
        "## Tuple\n",
        "\n",
        "和 list 很像，都是一系列的任意型別資料。但與 list 不同的是，tuple 中的資料一經宣告後，**就不可做任何異動**，所以我們可以把 tuple 視為常數的串列。"
      ]
    },
    {
      "cell_type": "code",
      "metadata": {
        "id": "WSV_6IiJ6xmx",
        "colab": {
          "base_uri": "https://localhost:8080/",
          "height": 579
        },
        "outputId": "9f613010-d68e-46d8-8e5b-42d7740d7c8b"
      },
      "source": [
        "from IPython.display import HTML\n",
        "HTML(\"\"\"\n",
        "    <div style=\"display: flex; justify-content: center;\">\n",
        "        <video width=1000 controls>\n",
        "              <source src=\"https://drive.google.com/uc?id=1Y-fKkQHVas9gcWTJQhAxl2Vxpwo4IT8I\" type=\"video/mp4\">\n",
        "        </video>\n",
        "    </div>\n",
        "\"\"\" )"
      ],
      "execution_count": null,
      "outputs": [
        {
          "output_type": "execute_result",
          "data": {
            "text/html": [
              "\n",
              "    <div style=\"display: flex; justify-content: center;\">\n",
              "        <video width=1000 controls>\n",
              "              <source src=\"https://drive.google.com/uc?id=1Y-fKkQHVas9gcWTJQhAxl2Vxpwo4IT8I\" type=\"video/mp4\">\n",
              "        </video>\n",
              "    </div>\n"
            ],
            "text/plain": [
              "<IPython.core.display.HTML object>"
            ]
          },
          "metadata": {
            "tags": []
          },
          "execution_count": 2
        }
      ]
    },
    {
      "cell_type": "code",
      "metadata": {
        "id": "C8bFwtXQx27Z",
        "outputId": "54515622-8b25-4305-9fd5-c98b5d720416"
      },
      "source": [
        "# 宣告空的 tuple\n",
        "T1 = ()\n",
        "T2 = tuple()\n",
        "\n",
        "print(T1)\n",
        "print(T2)"
      ],
      "execution_count": null,
      "outputs": [
        {
          "output_type": "stream",
          "text": [
            "()\n",
            "()\n"
          ],
          "name": "stdout"
        }
      ]
    },
    {
      "cell_type": "code",
      "metadata": {
        "id": "MZoybAEhx27s",
        "outputId": "10a14d28-d1ef-4bbe-f6d8-65bb48ef4e4f"
      },
      "source": [
        "# Tuple 和 List 是可以互相轉換的\n",
        "T = (1, 2, 3)\n",
        "L = list(T)\n",
        "print(L)\n",
        "print(T)\n",
        "\n",
        "L = [1, 2, 3]\n",
        "T = tuple(L)\n",
        "print(L)\n",
        "print(T)"
      ],
      "execution_count": null,
      "outputs": [
        {
          "output_type": "stream",
          "text": [
            "[1, 2, 3]\n",
            "(1, 2, 3)\n",
            "[1, 2, 3]\n",
            "(1, 2, 3)\n"
          ],
          "name": "stdout"
        }
      ]
    },
    {
      "cell_type": "markdown",
      "metadata": {
        "id": "jofK7Fdpx27v"
      },
      "source": [
        "## Set\n",
        "\n",
        "集合與List最大的不同是沒有順序性。"
      ]
    },
    {
      "cell_type": "code",
      "metadata": {
        "id": "8kRzBnpNx27v",
        "outputId": "9da04568-3eec-4f23-b0cd-03fd007c9491"
      },
      "source": [
        "# 宣告一個空集合\n",
        "S = set()\n",
        "\n",
        "print(S)"
      ],
      "execution_count": null,
      "outputs": [
        {
          "output_type": "stream",
          "text": [
            "set()\n"
          ],
          "name": "stdout"
        }
      ]
    },
    {
      "cell_type": "code",
      "metadata": {
        "id": "-KfUjgObx27z",
        "outputId": "5fa5ea1e-994b-45f9-e2c9-34356dc852f6"
      },
      "source": [
        "# 宣告有東西的集合使用大括號 {}，\n",
        "S1 = {1, 2, 3, 4}\n",
        "S2 = {3, 4, 5, 6, 6}\n",
        "\n",
        "print(S1)\n",
        "print(S2)"
      ],
      "execution_count": null,
      "outputs": [
        {
          "output_type": "stream",
          "text": [
            "{1, 2, 3, 4}\n",
            "{3, 4, 5, 6}\n"
          ],
          "name": "stdout"
        }
      ]
    },
    {
      "cell_type": "code",
      "metadata": {
        "id": "COcvMsacx272",
        "outputId": "8bd9a5a5-48b2-49a7-b997-65138df6c2eb"
      },
      "source": [
        "# 兩集合的交集使用 & 符號\n",
        "print(S1 & S2)\n",
        "\n",
        "# 兩集合的聯集使用 | 符號\n",
        "print(S1 | S2)\n",
        "\n",
        "# 兩集合的差集使用 - 符號\n",
        "print(S1 - S2)\n",
        "print(S2 - S1)\n",
        "\n",
        "# 兩集合的互斥集使用 ^ 符號\n",
        "print(S1 ^ S2)\n",
        "\n",
        "# 使用 >, <, =, >=, <=, == 判斷集合間的子集關係\n",
        "print(S1 <= S2)\n",
        "print(S1 >= S2)"
      ],
      "execution_count": null,
      "outputs": [
        {
          "output_type": "stream",
          "text": [
            "{3, 4}\n",
            "{1, 2, 3, 4, 5, 6}\n",
            "{1, 2}\n",
            "{5, 6}\n",
            "{1, 2, 5, 6}\n",
            "False\n",
            "False\n"
          ],
          "name": "stdout"
        }
      ]
    },
    {
      "cell_type": "code",
      "metadata": {
        "id": "dk5EAx01x278",
        "outputId": "ce549928-2c77-4ecd-b797-f8c56bf93f92"
      },
      "source": [
        "# 集合可由 list 及 tuple 轉換而來，不過集合中的資料是沒有順序的。\n",
        "S = set([3, 1, 2, 4])\n",
        "print(S)\n",
        "\n",
        "S = set((1, 5, 2, 3))\n",
        "print(S)"
      ],
      "execution_count": null,
      "outputs": [
        {
          "output_type": "stream",
          "text": [
            "{1, 2, 3, 4}\n",
            "{1, 2, 3, 5}\n"
          ],
          "name": "stdout"
        }
      ]
    },
    {
      "cell_type": "code",
      "metadata": {
        "id": "zvQuIIEOx27_",
        "outputId": "b60ed2a6-9860-4991-d27c-578f35cbd9a6"
      },
      "source": [
        "S = {1, 2, 3, 4}\n",
        "\n",
        "# 在集合中增加一物件\n",
        "S.add(7)\n",
        "print(S)\n",
        "\n",
        "# 若要將集合與其他集合做合併，可使用 update()，兩集合重複的物件將不會重複合併。\n",
        "S.update((4, 5, 6))\n",
        "print(S)"
      ],
      "execution_count": null,
      "outputs": [
        {
          "output_type": "stream",
          "text": [
            "{1, 2, 3, 4, 7}\n",
            "{1, 2, 3, 4, 5, 6, 7}\n"
          ],
          "name": "stdout"
        }
      ]
    }
  ]
}