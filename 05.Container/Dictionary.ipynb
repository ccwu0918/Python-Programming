{
  "nbformat": 4,
  "nbformat_minor": 0,
  "metadata": {
    "colab": {
      "name": "Dictionary",
      "provenance": [],
      "include_colab_link": true
    },
    "kernelspec": {
      "name": "python3",
      "display_name": "Python 3"
    }
  },
  "cells": [
    {
      "cell_type": "markdown",
      "metadata": {
        "id": "view-in-github",
        "colab_type": "text"
      },
      "source": [
        "<a href=\"https://colab.research.google.com/github/ccwu0918/Python-Programming/blob/master/05.Container/Dictionary.ipynb\" target=\"_parent\"><img src=\"https://colab.research.google.com/assets/colab-badge.svg\" alt=\"Open In Colab\"/></a>"
      ]
    },
    {
      "cell_type": "markdown",
      "metadata": {
        "id": "dBSYbbWQx29H"
      },
      "source": [
        "## Dictionary"
      ]
    },
    {
      "cell_type": "code",
      "metadata": {
        "id": "weyjZxqC7JRZ",
        "colab": {
          "base_uri": "https://localhost:8080/",
          "height": 579
        },
        "outputId": "019fd5e7-cbd5-462d-9309-9c2aabf11c09"
      },
      "source": [
        "from IPython.display import HTML\n",
        "HTML(\"\"\"\n",
        "    <div style=\"display: flex; justify-content: center;\">\n",
        "        <video width=1000 controls>\n",
        "              <source src=\"https://drive.google.com/uc?id=1t8xDK3htRY2h0PHsvXzffMPffcSZxZ5y\" type=\"video/mp4\">\n",
        "        </video>\n",
        "    </div>\n",
        "\"\"\" )"
      ],
      "execution_count": null,
      "outputs": [
        {
          "output_type": "execute_result",
          "data": {
            "text/html": [
              "\n",
              "    <div style=\"display: flex; justify-content: center;\">\n",
              "        <video width=1000 controls>\n",
              "              <source src=\"https://drive.google.com/uc?id=1t8xDK3htRY2h0PHsvXzffMPffcSZxZ5y\" type=\"video/mp4\">\n",
              "        </video>\n",
              "    </div>\n"
            ],
            "text/plain": [
              "<IPython.core.display.HTML object>"
            ]
          },
          "metadata": {
            "tags": []
          },
          "execution_count": 3
        }
      ]
    },
    {
      "cell_type": "code",
      "metadata": {
        "id": "RkBsesTCx29I",
        "outputId": "4484af4f-a5e7-46b9-da9b-07791210fa57"
      },
      "source": [
        "# 宣告一個空字典，使用大括號，或是直接使用 dict()。\n",
        "# 這邊容易搞混的是集合與字典，因為他們一樣都是用大括號，要記得如果只宣告一個大括號的話，出來的型別會是字典！\n",
        "D1 = {}\n",
        "D2 = dict()\n",
        "\n",
        "print(type(D1))\n",
        "print(type(D2))"
      ],
      "execution_count": null,
      "outputs": [
        {
          "output_type": "stream",
          "text": [
            "<class 'dict'>\n",
            "<class 'dict'>\n"
          ],
          "name": "stdout"
        }
      ]
    },
    {
      "cell_type": "code",
      "metadata": {
        "id": "LUvjotF_x29O",
        "outputId": "116f0d0a-7d22-413b-d401-b436bee55868"
      },
      "source": [
        "# 宣告有資料的字典時，由於和集合一樣都是使用大括號，所以在資料部分的格式必須由所區隔。\n",
        "# 每一筆都需要有兩個任意型別的物件 (key, value)，例如 'a' 和 1，並且以冒號隔開，這樣的意思是在這個字典中，\n",
        "# 呼叫 key('a') 會得到 value (1)。\n",
        "\n",
        "D = {'a': 1, 'b': 2, 'c': 3, 4:'d'}\n",
        "S = {1, 2, 3}\n",
        "\n",
        "print(type(D))\n",
        "print(type(S))"
      ],
      "execution_count": null,
      "outputs": [
        {
          "output_type": "stream",
          "text": [
            "<class 'dict'>\n",
            "<class 'set'>\n"
          ],
          "name": "stdout"
        }
      ]
    },
    {
      "cell_type": "code",
      "metadata": {
        "id": "eamdNvO6x29Z",
        "outputId": "dd6c4831-7181-45f8-cbc7-0908bf436c9e"
      },
      "source": [
        "# 將 list 轉換成字典，注意 list 中每筆資料都要是一個 \"內含兩個資料的 list\"\n",
        "# 轉換後 每兩筆中的第一筆將會是 key，另一筆是 value。\n",
        "L = [[1, 'a'], [2, 'b'], [3, 'c']]\n",
        "\n",
        "D = dict(L)\n",
        "print(D)\n",
        "\n",
        "# 將 tuple 轉換成字典，注意 tuple 中每筆資料都要是一個 \"內含兩個資料的 tuple\"\n",
        "# 轉換後 每兩筆中的第一筆將會是 key，另一筆是 value。\n",
        "S = (('a', 1), ('b', 2), ('c', 3))\n",
        "\n",
        "D = dict(S)\n",
        "print(D)"
      ],
      "execution_count": null,
      "outputs": [
        {
          "output_type": "stream",
          "text": [
            "{1: 'a', 2: 'b', 3: 'c'}\n",
            "{'a': 1, 'b': 2, 'c': 3}\n"
          ],
          "name": "stdout"
        }
      ]
    },
    {
      "cell_type": "code",
      "metadata": {
        "id": "T6JkV7d7x29t",
        "outputId": "f76015ca-769d-4a38-f959-6f15e18ce14a"
      },
      "source": [
        "attribute = ['name', 'age', 'gender', 'height', 'weight', 'exercise']\n",
        "value = ['Sally', 21, 'Female', 160, 50, 0]\n",
        "\n",
        "infoDict = dict(zip(attribute, value))\n",
        "\n",
        "print(infoDict)"
      ],
      "execution_count": null,
      "outputs": [
        {
          "output_type": "stream",
          "text": [
            "{'name': 'Sally', 'age': 21, 'gender': 'Female', 'height': 160, 'weight': 50, 'exercise': 0}\n"
          ],
          "name": "stdout"
        }
      ]
    },
    {
      "cell_type": "code",
      "metadata": {
        "id": "t1SK2HOjx29x",
        "outputId": "ec66c094-9a9a-4011-b8b2-d3894921be35"
      },
      "source": [
        "D = {'a': 1, 'b': 2, 'c': 3}\n",
        "print(D)\n",
        "\n",
        "# 使用 [] 呼叫字典中的 key 取得其對應的 value，和 list 中的 index 類似，只是將 index 換成 key (可為任意型別)。\n",
        "# 注意每個 key 及 value 都沒有限制型別，因此字典在對應關係上相較只能有整數 index 的 list 自由。\n",
        "print(D['a'])\n",
        "\n",
        "# 在字典中新增一組資料 (key, value)，用宣告方式。\n",
        "D['d'] = 4\n",
        "print(D['d'])\n",
        "print(D)\n",
        "\n",
        "# 使用 update()，在字典中添加另一字典的資料\n",
        "D.update({'e': 5, 'f': 6, 'g': 7})\n",
        "print(D)"
      ],
      "execution_count": null,
      "outputs": [
        {
          "output_type": "stream",
          "text": [
            "{'a': 1, 'b': 2, 'c': 3}\n",
            "1\n",
            "4\n",
            "{'a': 1, 'b': 2, 'c': 3, 'd': 4}\n",
            "{'a': 1, 'b': 2, 'c': 3, 'd': 4, 'e': 5, 'f': 6, 'g': 7}\n"
          ],
          "name": "stdout"
        }
      ]
    },
    {
      "cell_type": "code",
      "metadata": {
        "id": "jAt2CxuBx2-B",
        "outputId": "42863e55-1ead-4d3e-c3c2-1938f2c3e9c8"
      },
      "source": [
        "D = {'a': 1, 'b': 2, 'c': 3, 'd': 4, 'e': 5, 'f': 6, 'g': 7}\n",
        "print(D)\n",
        "\n",
        "# 使用 del(key) 刪除字典內指定的 (key, value)資料\n",
        "del(D['a'])\n",
        "print(D)\n",
        "\n",
        "# 使用D.pop(key) 刪除字典內指定的 (key, value)資料, 同時取一次value\n",
        "print(D.pop('b'))\n",
        "print(D)\n",
        "\n",
        "# 使用 clear() 清空字典內的所有資料\n",
        "D.clear()\n",
        "print(D)"
      ],
      "execution_count": null,
      "outputs": [
        {
          "output_type": "stream",
          "text": [
            "{'a': 1, 'b': 2, 'c': 3, 'd': 4, 'e': 5, 'f': 6, 'g': 7}\n",
            "{'b': 2, 'c': 3, 'd': 4, 'e': 5, 'f': 6, 'g': 7}\n",
            "2\n",
            "{'c': 3, 'd': 4, 'e': 5, 'f': 6, 'g': 7}\n",
            "{}\n"
          ],
          "name": "stdout"
        }
      ]
    },
    {
      "cell_type": "code",
      "metadata": {
        "id": "ADT-TYCQx2-c",
        "outputId": "c2a748c3-fa87-4e48-823f-6a209d4f4f31"
      },
      "source": [
        "D = {'a': 1, 'b': 2, 'c': 3, 'd': 4, 'e': 5, 'f': 6, 'g': 7}\n",
        "\n",
        "# 使用 keys() 取得所有的 key，並轉成 list\n",
        "L_keys = list(D.keys())\n",
        "print(L_keys)\n",
        "\n",
        "# 使用 values() 取得所有的 values，並轉成 list\n",
        "L_values = list(D.values())\n",
        "print(L_values)\n",
        "\n",
        "# 使用 items() 取得所有的 (key, value) tuple, 並轉成 list\n",
        "L_items = list(D.items())\n",
        "print(L_items)"
      ],
      "execution_count": null,
      "outputs": [
        {
          "output_type": "stream",
          "text": [
            "['a', 'b', 'c', 'd', 'e', 'f', 'g']\n",
            "[1, 2, 3, 4, 5, 6, 7]\n",
            "[('a', 1), ('b', 2), ('c', 3), ('d', 4), ('e', 5), ('f', 6), ('g', 7)]\n"
          ],
          "name": "stdout"
        }
      ]
    },
    {
      "cell_type": "code",
      "metadata": {
        "id": "H-juRcPIx2_V",
        "outputId": "2dff3d6b-7fa7-4f51-ebbf-d1a12ebb69d0"
      },
      "source": [
        "# 使用 in 來尋找 key 或 value 是否在這個字典中\n",
        "D = {'a': 1, 'b': 2, 'c': 3, 'd': 4, 'e': 5, 'f': 6, 'g': 7}\n",
        "\n",
        "# 'a' 目前有在字典的 key 裡，故會印出 True\n",
        "print('a' in D)\n",
        "# 'h' 目前不在字典的 key 裡，故會印出 False\n",
        "print('h' in D)\n",
        "\n",
        "# 1 目前存在字典的 values 裡\n",
        "print(1 in D.values())\n",
        "# 8 目前不存在字典的 values 裡\n",
        "print(8 in D.values())"
      ],
      "execution_count": null,
      "outputs": [
        {
          "output_type": "stream",
          "text": [
            "True\n",
            "False\n",
            "True\n",
            "False\n"
          ],
          "name": "stdout"
        }
      ]
    },
    {
      "cell_type": "markdown",
      "metadata": {
        "id": "9jqm1qQ_x2_e"
      },
      "source": [
        "# 複製的注意事項！"
      ]
    },
    {
      "cell_type": "code",
      "metadata": {
        "id": "UffCEdSLx2_e",
        "outputId": "62b7482a-580f-41db-f574-1f06d7e4003a"
      },
      "source": [
        "# 請注意, 如果想複製一份container到另一個名稱上, 必須用.copy(), 否則兩個名稱會對應到同一個container資料\n",
        "\n",
        "a = [1, 2, 3]\n",
        "\n",
        "b = a\n",
        "c = a.copy()\n",
        "\n",
        "a.clear()\n",
        "print(b)\n",
        "print(c)"
      ],
      "execution_count": null,
      "outputs": [
        {
          "output_type": "stream",
          "text": [
            "[]\n",
            "[1, 2, 3]\n"
          ],
          "name": "stdout"
        }
      ]
    },
    {
      "cell_type": "code",
      "metadata": {
        "id": "MQTHvCvHx2__"
      },
      "source": [
        "# quiz 1\n",
        "\n",
        "# 宣告一個 list\n",
        "# 新增 1 筆任意數字 \n",
        "# 新增 5 筆任意數字\n",
        "# 逆排序\n",
        "# 刪除 index 為 3的數字\n",
        "# 在前面新增 5 個任意數字\n",
        "# 排序\n",
        "# 轉換成 tuple"
      ],
      "execution_count": null,
      "outputs": []
    },
    {
      "cell_type": "code",
      "metadata": {
        "id": "GeQBO6sUx3AG",
        "cellView": "form"
      },
      "source": [
        "#@title Answer\n",
        "\n",
        "# 宣告一個 list\n",
        "list_a = []\n",
        "\n",
        "# 新增 1 筆任意數字 \n",
        "list_a.append(19)\n",
        "print(list_a)\n",
        "\n",
        "# 新增 5 筆任意數字\n",
        "list_a = list_a + [0, 1, 2, 3, 4]\n",
        "print(list_a)\n",
        "\n",
        "# 逆排序\n",
        "list_a.sort(reverse=True)\n",
        "print(list_a)\n",
        "\n",
        "# 刪除 index 為 3的數字\n",
        "list_a.pop(3)\n",
        "print(list_a)\n",
        "\n",
        "# 在前面新增 5 個任意數字\n",
        "list_a = [30, 31, 32, 33, 34] + list_a\n",
        "print(list_a)\n",
        "\n",
        "# 排序\n",
        "list_a.sort()\n",
        "print(list_a)\n",
        "\n",
        "# 轉換成 tuple\n",
        "tuple_a = tuple(list_a)\n",
        "print(tuple_a)"
      ],
      "execution_count": null,
      "outputs": []
    },
    {
      "cell_type": "code",
      "metadata": {
        "id": "KJycMks7x3AQ"
      },
      "source": [
        "# quiz 2\n",
        "\n",
        "# 宣告兩個一樣長度的 list, 接著使用 zip 加上型別轉換，建構出一個 dictionary"
      ],
      "execution_count": null,
      "outputs": []
    },
    {
      "cell_type": "code",
      "metadata": {
        "id": "PVYCs944x3AW",
        "cellView": "form"
      },
      "source": [
        "#@title Answer\n",
        "\n",
        "fruit = ['apple', 'banana', 'guava', 'cherry', 'grape', 'lemon']\n",
        "price = [100, 30, 40, 120, 50, 19]\n",
        "print('fruit name:', fruit)\n",
        "print('price:', price)\n",
        "\n",
        "\n",
        "fpDict = dict(zip(fruit, price))\n",
        "\n",
        "print(fpDict)"
      ],
      "execution_count": null,
      "outputs": []
    },
    {
      "cell_type": "code",
      "metadata": {
        "id": "0jomvZYxx3Ad"
      },
      "source": [
        "# quiz 3\n",
        "\n",
        "# 宣告兩個集合 (set) ，一個集合 (s1) 內有 -3至 5 的所有整數，另一個 (s2) 有 1 至 8 的所有整數\n",
        "# 印出兩集合的 交集\n",
        "# 印出兩集合的 聯集\n",
        "# 印出兩集合互相的 差集"
      ],
      "execution_count": null,
      "outputs": []
    },
    {
      "cell_type": "code",
      "metadata": {
        "id": "k4rCLiUQx3Bb",
        "cellView": "form"
      },
      "source": [
        "#@title Answer\n",
        "\n",
        "set_a = {-3, -2, -1, 0, 1, 2, 3, 4, 5}\n",
        "set_b = {1, 2, 3, 4, 5, 6, 7, 8}\n",
        "\n",
        "print(\"set_a = \", set_a)\n",
        "print(\"set_b = \", set_b)\n",
        "print(\"--------------------------\")\n",
        "\n",
        "print(\"交集：\", set_a & set_b)\n",
        "print(\"聯集：\", set_a | set_b)\n",
        "print(\"差集：\")\n",
        "print(\"set_a - set_b =\", set_a - set_b)\n",
        "print(\"set_b - set_a =\", set_b - set_a)"
      ],
      "execution_count": null,
      "outputs": []
    }
  ]
}