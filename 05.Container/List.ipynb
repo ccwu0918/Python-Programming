{
  "nbformat": 4,
  "nbformat_minor": 0,
  "metadata": {
    "kernelspec": {
      "display_name": "Python 3",
      "language": "python",
      "name": "python3"
    },
    "language_info": {
      "codemirror_mode": {
        "name": "ipython",
        "version": 3
      },
      "file_extension": ".py",
      "mimetype": "text/x-python",
      "name": "python",
      "nbconvert_exporter": "python",
      "pygments_lexer": "ipython3",
      "version": "3.7.3"
    },
    "colab": {
      "name": "List",
      "provenance": [],
      "include_colab_link": true
    }
  },
  "cells": [
    {
      "cell_type": "markdown",
      "metadata": {
        "id": "view-in-github",
        "colab_type": "text"
      },
      "source": [
        "<a href=\"https://colab.research.google.com/github/ccwu0918/Python-Programming/blob/master/05.Container/List.ipynb\" target=\"_parent\"><img src=\"https://colab.research.google.com/assets/colab-badge.svg\" alt=\"Open In Colab\"/></a>"
      ]
    },
    {
      "cell_type": "markdown",
      "metadata": {
        "id": "TZ5zpvRix24d"
      },
      "source": [
        "## List"
      ]
    },
    {
      "cell_type": "code",
      "metadata": {
        "id": "Yq-j_UQPE8Pq",
        "colab": {
          "base_uri": "https://localhost:8080/",
          "height": 579
        },
        "outputId": "81ebc951-ac76-43a7-8c3b-501a7171aa4d",
        "cellView": "form"
      },
      "source": [
        "#@title\n",
        "from IPython.display import HTML\n",
        "HTML(\"\"\"\n",
        "    <div style=\"display: flex; justify-content: center;\">\n",
        "        <video width=1000 controls>\n",
        "              <source src=\"https://drive.google.com/uc?id=1FRhpDWoSMLY5K68Q5q-p9byvHF8yMwd0\" type=\"video/mp4\">\n",
        "        </video>\n",
        "    </div>\n",
        "\"\"\" )"
      ],
      "execution_count": null,
      "outputs": [
        {
          "output_type": "execute_result",
          "data": {
            "text/html": [
              "\n",
              "    <div style=\"display: flex; justify-content: center;\">\n",
              "        <video width=1000 controls>\n",
              "              <source src=\"https://drive.google.com/uc?id=1FRhpDWoSMLY5K68Q5q-p9byvHF8yMwd0\" type=\"video/mp4\">\n",
              "        </video>\n",
              "    </div>\n"
            ],
            "text/plain": [
              "<IPython.core.display.HTML object>"
            ]
          },
          "metadata": {
            "tags": []
          },
          "execution_count": 1
        }
      ]
    },
    {
      "cell_type": "markdown",
      "metadata": {
        "id": "hlUrTP86x24f"
      },
      "source": [
        "### 如何宣告一個 List\n",
        "list 的宣告使用中括號 []，或是 list()，後者可將其他型態的 Container (例如 Tuple)資料轉為 list，所以一般宣告建議使用中括號就好，以跟型態轉換做出區隔。"
      ]
    },
    {
      "cell_type": "code",
      "metadata": {
        "id": "Rrn-MqzZx24f",
        "outputId": "0dd7b9c1-f490-46ee-a009-ea11daef78ff"
      },
      "source": [
        "# 宣告空的 list\n",
        "emptyList1 = []\n",
        "emptyList2 = list()\n",
        "\n",
        "print(emptyList1)\n",
        "print(emptyList2)"
      ],
      "execution_count": null,
      "outputs": [
        {
          "output_type": "stream",
          "text": [
            "[]\n",
            "[]\n"
          ],
          "name": "stdout"
        }
      ]
    },
    {
      "cell_type": "markdown",
      "metadata": {
        "id": "puut0Fcsx24t"
      },
      "source": [
        "一個 list 的乘載內容不限於單一型別，可以將數字、字串、布林甚至是另一整個 list 放在同一個 list 裡面，使用上非常地自由。"
      ]
    },
    {
      "cell_type": "code",
      "metadata": {
        "id": "T5gkvTFKx24w",
        "outputId": "2cdaa149-db0e-409b-e454-31f2ca11f395"
      },
      "source": [
        "# list 中可以放入各種不同型別的變數\n",
        "complexList = [1, 2.3, 4 + 5j, 'five']\n",
        "\n",
        "print(complexList)"
      ],
      "execution_count": null,
      "outputs": [
        {
          "output_type": "stream",
          "text": [
            "[1, 2.3, (4+5j), 'five']\n"
          ],
          "name": "stdout"
        }
      ]
    },
    {
      "cell_type": "code",
      "metadata": {
        "id": "zh2Ifa31x243",
        "outputId": "961962b3-4384-42c1-b4c7-555d30108032"
      },
      "source": [
        "# 甚至可以放入另一整個 list 作為其中一筆資料\n",
        "nestedList = [0, [11, 12], 2, [30, 31, 32], 4]\n",
        "\n",
        "print(nestedList)"
      ],
      "execution_count": null,
      "outputs": [
        {
          "output_type": "stream",
          "text": [
            "[0, [11, 12], 2, [30, 31, 32], 4]\n"
          ],
          "name": "stdout"
        }
      ]
    },
    {
      "cell_type": "code",
      "metadata": {
        "id": "kbpSogZUx25M",
        "outputId": "8566c4ac-b4da-4e5e-8ec9-cf7cbe4d154d"
      },
      "source": [
        "L = [3, 4, 5]\n",
        "print(L)\n",
        "\n",
        "# 在 list 最後面新增一筆資料，使用 append()\n",
        "L.append(6)\n",
        "print(L)\n",
        "\n",
        "# 在 list 最後面新增多筆資料，使用 + 以及另外多筆資料 (包成 list)\n",
        "L1 = L + [7, [80, 81], 9, 10]\n",
        "print(L1)\n",
        "\n",
        "# 在 list 最前面插入多筆資料\n",
        "L2 = [0, [10, 11], 2] + L\n",
        "print(L2)\n",
        "\n",
        "# 把 list 重複兩次\n",
        "L3 = L * 2\n",
        "print(L3)"
      ],
      "execution_count": null,
      "outputs": [
        {
          "output_type": "stream",
          "text": [
            "[3, 4, 5]\n",
            "[3, 4, 5, 6]\n",
            "[3, 4, 5, 6, 7, [80, 81], 9, 10]\n",
            "[0, [10, 11], 2, 3, 4, 5, 6]\n",
            "[3, 4, 5, 6, 3, 4, 5, 6]\n"
          ],
          "name": "stdout"
        }
      ]
    },
    {
      "cell_type": "code",
      "metadata": {
        "id": "XQn6CB-Dx25T",
        "outputId": "5d531f21-8679-453d-c301-04c7e69f0497"
      },
      "source": [
        "L = [10, 10, 9, 8, 7, 6, 5, 4, 3, 2, 1, 0]\n",
        "\n",
        "# 使用 remove() 移除目前 list 中希望移除的值，注意如果希望移除的值出現了很多次， remove 只會移除前面數來第一個。\n",
        "L.remove(10)\n",
        "print(L)\n",
        "\n",
        "# 使用 pop() 移除目前 list 中某個 index 的資料。\n",
        "L.pop(3)\n",
        "print(L)\n",
        "\n",
        "# 使用 clear() 移除 list 中所有資料\n",
        "L.clear()\n",
        "print(L)"
      ],
      "execution_count": null,
      "outputs": [
        {
          "output_type": "stream",
          "text": [
            "[10, 9, 8, 7, 6, 5, 4, 3, 2, 1, 0]\n",
            "[10, 9, 8, 6, 5, 4, 3, 2, 1, 0]\n",
            "[]\n"
          ],
          "name": "stdout"
        }
      ]
    },
    {
      "cell_type": "code",
      "metadata": {
        "id": "5sH4DEHSx25Y",
        "outputId": "f089c345-04a7-4ae2-cfa0-bd66baf32518"
      },
      "source": [
        "L = [10, 9, 8, 7, 6, 5, 4, 3, 2, 1, 0]\n",
        "\n",
        "# 使用 len() 查詢目前 list總長度\n",
        "print(len(L))\n",
        "\n",
        "# 使用 index() 來尋找欲求資料在 list 中的位置\n",
        "print(L.index(6))\n",
        "\n",
        "L = [1, 2, 2, 3, 3, 4, 4, 4, 4, 5, 5, 5, 5, 5, 5, 6, 6]\n",
        "\n",
        "# 使用 count() 來計算欲求資料在 list 中出現了幾次\n",
        "print(L.count(5))"
      ],
      "execution_count": null,
      "outputs": [
        {
          "output_type": "stream",
          "text": [
            "11\n",
            "4\n",
            "6\n"
          ],
          "name": "stdout"
        }
      ]
    },
    {
      "cell_type": "code",
      "metadata": {
        "id": "s8cqZL1sx25l",
        "outputId": "3d6b8d82-a296-4fd3-fef9-6e22e50e1d9d"
      },
      "source": [
        "L = [0, 1, 2, 3, 4, 5, 6, 7, 8, 9, 10]\n",
        "\n",
        "\n",
        "'''\n",
        "正 index: 由左至右，從  0 開始\n",
        "負 index: 由右至左，從 -1 開始\n",
        "'''\n",
        "\n",
        "# 取得 list 中 index 為 3 的資料\n",
        "print(L[3])\n",
        "# 取得 list 中 index 由 3 至 8(不含) 的資料\n",
        "print(L[3:8])\n",
        "# 取得 list 中 index 由 3 至 8(不含)，並且每次往右兩個取，的資料\n",
        "print(L[3:8:2])\n",
        "# 取得 list 中 index 由頭至 8(不含) 的資料\n",
        "print(L[:8])\n",
        "# 取得 list 中 index 由 3 至最後的資料\n",
        "print(L[3:])\n",
        "\n",
        "# 取得 list 中 index 由右至左數第 1 至第 5 個，並且每次往左兩個取，的資料\n",
        "print(L[-1:-8:-2])"
      ],
      "execution_count": null,
      "outputs": [
        {
          "output_type": "stream",
          "text": [
            "3\n",
            "[3, 4, 5, 6, 7]\n",
            "[3, 5, 7]\n",
            "[0, 1, 2, 3, 4, 5, 6, 7]\n",
            "[3, 4, 5, 6, 7, 8, 9, 10]\n",
            "[10, 8, 6, 4]\n"
          ],
          "name": "stdout"
        }
      ]
    },
    {
      "cell_type": "code",
      "metadata": {
        "id": "SDRu6kijx25p",
        "outputId": "1c1eca54-269c-422c-840b-99497a02d4d0"
      },
      "source": [
        "nestedList = [[11, 12], [21, 22, 23], [31, 32, 33, 34]]\n",
        "\n",
        "# 對於多重 list，使用多重 index 去取得內層的資料，例如 L[2][3]\n",
        "# 就是取 list 中 index 為 2 的子 list，並拿出其中 index 為 3的值。\n",
        "print(nestedList[1][2])"
      ],
      "execution_count": null,
      "outputs": [
        {
          "output_type": "stream",
          "text": [
            "23\n"
          ],
          "name": "stdout"
        }
      ]
    },
    {
      "cell_type": "code",
      "metadata": {
        "id": "mSo3kkpRF4iX",
        "colab": {
          "base_uri": "https://localhost:8080/",
          "height": 579
        },
        "outputId": "ec6fdfc0-b632-4f37-eaca-2d7fd470c6a5",
        "cellView": "form"
      },
      "source": [
        "#@title\n",
        "from IPython.display import HTML\n",
        "HTML(\"\"\"\n",
        "    <div style=\"display: flex; justify-content: center;\">\n",
        "        <video width=1000 controls>\n",
        "              <source src=\"https://drive.google.com/uc?id=1Nl2tSzDCBDEqh1vz1YpT-4Z6U0JpuI4I\" type=\"video/mp4\">\n",
        "        </video>\n",
        "    </div>\n",
        "\"\"\" )"
      ],
      "execution_count": null,
      "outputs": [
        {
          "output_type": "execute_result",
          "data": {
            "text/html": [
              "\n",
              "    <div style=\"display: flex; justify-content: center;\">\n",
              "        <video width=1000 controls>\n",
              "              <source src=\"https://drive.google.com/uc?id=1Nl2tSzDCBDEqh1vz1YpT-4Z6U0JpuI4I\" type=\"video/mp4\">\n",
              "        </video>\n",
              "    </div>\n"
            ],
            "text/plain": [
              "<IPython.core.display.HTML object>"
            ]
          },
          "metadata": {
            "tags": []
          },
          "execution_count": 2
        }
      ]
    },
    {
      "cell_type": "code",
      "metadata": {
        "id": "Z_weQNMdx25v",
        "outputId": "e9ac170c-4c90-4f98-f0f2-bc953ed88f4d"
      },
      "source": [
        "L = [0, 1, 2, 3, 4]\n",
        "\n",
        "# 使用 insert(index, value) 在 index 處插入一筆資料，下例為在 index 為 3的地方插入一個 5\n",
        "L.insert(3, 5)\n",
        "print(L)\n",
        "\n",
        "# 使用 slicing 將 list 拆成兩半，則可以在中間插入多筆資料，下例為把 list 分成前四筆 含剩下的，並在中間插入 6 7 8 9。\n",
        "# L[:4] 為 [0, 1, 2, 5]\n",
        "# L[4:] 為 [3, 4]\n",
        "L = L[:4] + [6, 7, 8, 9] + L[4:]\n",
        "print(L)"
      ],
      "execution_count": null,
      "outputs": [
        {
          "output_type": "stream",
          "text": [
            "[0, 1, 2, 5, 3, 4]\n",
            "[0, 1, 2, 5, 6, 7, 8, 9, 3, 4]\n"
          ],
          "name": "stdout"
        }
      ]
    },
    {
      "cell_type": "code",
      "metadata": {
        "id": "hs3E7rOPx250",
        "outputId": "f357b7c7-60e6-41e4-d1f4-c8af6091bddd"
      },
      "source": [
        "# 使用 split() 將字串自動切成 list。\n",
        "# 例如輸入字串為 1 2 3， split()後變為 [1, 2, 3]\n",
        "\n",
        "splitList = input().split()\n",
        "print(splitList)\n",
        "\n",
        "Str = 'Alpha Beta Gamma Theta'\n",
        "splitString = Str.split()\n",
        "print(splitString)"
      ],
      "execution_count": null,
      "outputs": [
        {
          "output_type": "stream",
          "text": [
            "1 2 3 4\n",
            "['1', '2', '3', '4']\n",
            "['Alpha', 'Beta', 'Gamma', 'Theta']\n"
          ],
          "name": "stdout"
        }
      ]
    },
    {
      "cell_type": "code",
      "metadata": {
        "id": "bKt_SleVx258",
        "outputId": "08313c1f-52e9-424c-a2a9-064e4b70e3cd"
      },
      "source": [
        "# split() 預設以空格、換行符號、逗號、tab 做為分隔符號，若要自訂分隔符號，則可在括號內輸入指定。\n",
        "# 例如輸入為 192.168.0.1 這種形式時，可使用 split(\".\")，以點切分。 (分隔符號也可以是字串)\n",
        "\n",
        "ip = '192.168.0.1'\n",
        "splitStr = ip.split(\".\")\n",
        "print(splitStr)"
      ],
      "execution_count": null,
      "outputs": [
        {
          "output_type": "stream",
          "text": [
            "['192', '168', '0', '1']\n"
          ],
          "name": "stdout"
        }
      ]
    },
    {
      "cell_type": "code",
      "metadata": {
        "id": "LJmIFQr_x26L",
        "outputId": "202fe977-2231-4026-e4a4-3beb7fc3bb22"
      },
      "source": [
        "# join() 則是和 split() 相反的功能，以某個結合符號(字串)將 list 內的東西接起來。\n",
        "# 例如 \".\"join([1, 2, 3]) 代表以點號將 list 接起來，則結果為 \"1.2.3\"\n",
        "\n",
        "L = ['Alpha', 'Beta', 'Gamma', 'Theta']\n",
        "print(\"--\".join(L))"
      ],
      "execution_count": null,
      "outputs": [
        {
          "output_type": "stream",
          "text": [
            "Alpha--Beta--Gamma--Theta\n"
          ],
          "name": "stdout"
        }
      ]
    },
    {
      "cell_type": "code",
      "metadata": {
        "id": "sajTn3G5x265",
        "outputId": "5e0ac69a-f57c-40c7-b615-cfb5f9275046"
      },
      "source": [
        "# 使用 sort()將 list 排序，預設是升序，如果要降序的話，需要加上 reverse = True\n",
        "\n",
        "L = [4, 6, 5, 2, 1, 3, 7, 9, 8, 0]\n",
        "\n",
        "# 升序排序\n",
        "L.sort()\n",
        "print(L)\n",
        "\n",
        "# 降序排序\n",
        "L.sort(reverse=True)\n",
        "print(L)"
      ],
      "execution_count": null,
      "outputs": [
        {
          "output_type": "stream",
          "text": [
            "[0, 1, 2, 3, 4, 5, 6, 7, 8, 9]\n",
            "[9, 8, 7, 6, 5, 4, 3, 2, 1, 0]\n"
          ],
          "name": "stdout"
        }
      ]
    },
    {
      "cell_type": "code",
      "metadata": {
        "id": "VxSI0Iqxx27B",
        "outputId": "fd14e2af-6766-4af8-8a52-f8ff07aa357c"
      },
      "source": [
        "L1 = ['Ben', '001', 'physics', 'english', 'calculus', 88]\n",
        "L2 = ['Jen', '002', 'programming', 95]\n",
        "\n",
        "name, Id, *courses, score = L2\n",
        "print(name, Id, courses, score)"
      ],
      "execution_count": null,
      "outputs": [
        {
          "output_type": "stream",
          "text": [
            "Jen 002 ['programming'] 95\n"
          ],
          "name": "stdout"
        }
      ]
    }
  ]
}