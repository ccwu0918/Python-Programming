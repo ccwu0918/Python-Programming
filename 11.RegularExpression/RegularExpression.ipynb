{
  "nbformat": 4,
  "nbformat_minor": 0,
  "metadata": {
    "kernelspec": {
      "display_name": "Python 3",
      "language": "python",
      "name": "python3"
    },
    "language_info": {
      "codemirror_mode": {
        "name": "ipython",
        "version": 3
      },
      "file_extension": ".py",
      "mimetype": "text/x-python",
      "name": "python",
      "nbconvert_exporter": "python",
      "pygments_lexer": "ipython3",
      "version": "3.7.3"
    },
    "colab": {
      "name": "RegularExpression",
      "provenance": [],
      "include_colab_link": true
    }
  },
  "cells": [
    {
      "cell_type": "markdown",
      "metadata": {
        "id": "view-in-github",
        "colab_type": "text"
      },
      "source": [
        "<a href=\"https://colab.research.google.com/github/ccwu0918/Python-Programming/blob/master/11.RegularExpression/RegularExpression.ipynb\" target=\"_parent\"><img src=\"https://colab.research.google.com/assets/colab-badge.svg\" alt=\"Open In Colab\"/></a>"
      ]
    },
    {
      "cell_type": "code",
      "metadata": {
        "id": "do09hsDSGDq5",
        "colab": {
          "base_uri": "https://localhost:8080/",
          "height": 579
        },
        "outputId": "64bc79b1-23e2-4881-d690-95d543c43501"
      },
      "source": [
        "from IPython.display import HTML\n",
        "HTML(\"\"\"\n",
        "    <div style=\"display: flex; justify-content: center;\">\n",
        "        <video width=1000 controls>\n",
        "              <source src=\"https://drive.google.com/uc?id=1qxnRhBgv-H8hkUbmBRL8AH5M6zOw5DOo\" type=\"video/mp4\">\n",
        "        </video>\n",
        "    </div>\n",
        "\"\"\" )"
      ],
      "execution_count": null,
      "outputs": [
        {
          "output_type": "execute_result",
          "data": {
            "text/html": [
              "\n",
              "    <div style=\"display: flex; justify-content: center;\">\n",
              "        <video width=1000 controls>\n",
              "              <source src=\"https://drive.google.com/uc?id=1qxnRhBgv-H8hkUbmBRL8AH5M6zOw5DOo\" type=\"video/mp4\">\n",
              "        </video>\n",
              "    </div>\n"
            ],
            "text/plain": [
              "<IPython.core.display.HTML object>"
            ]
          },
          "metadata": {
            "tags": []
          },
          "execution_count": 1
        }
      ]
    },
    {
      "cell_type": "markdown",
      "metadata": {
        "id": "mdl2B4dg-xZp"
      },
      "source": [
        "# Regular Expression"
      ]
    },
    {
      "cell_type": "markdown",
      "metadata": {
        "id": "CA8z8c_h-xZq"
      },
      "source": [
        "- 正規表示式 (臺灣)；正則表達式（中國大陸）\n",
        "- 一個很強大的字串比對方法，使用一組特殊的字串，來描述符合某個規則語法的字串集\n",
        "- 適用情況：當比對的字串並非固定，而是要用某些規則來去比對時\n",
        "\n",
        "Regular expressions are a powerful language for matching text patterns.\n",
        "It is a special sequence of characters that helps you match or find other strings or sets of strings, using a specialized syntax held in a pattern."
      ]
    },
    {
      "cell_type": "code",
      "metadata": {
        "id": "EZZPU2ic-xZr",
        "outputId": "d83c68ba-0014-41bd-ad7c-27980e7d4a5e"
      },
      "source": [
        "# simple example\n",
        "\n",
        "S = 'This is demo string, do nothing!'\n",
        "\n",
        "print('is' in S )\n",
        "print('abc' in S )"
      ],
      "execution_count": null,
      "outputs": [
        {
          "output_type": "stream",
          "text": [
            "True\n",
            "False\n"
          ],
          "name": "stdout"
        }
      ]
    },
    {
      "cell_type": "code",
      "metadata": {
        "id": "B5z-o9Pj-xZw",
        "outputId": "7d0521d1-674c-4fb8-b330-50edb8bf390e"
      },
      "source": [
        "# more example\n",
        "\n",
        "S = \"This is demo string, 01234567899876543210.\"\n",
        "\n",
        "pattern = \"01234567899876543210\"\n",
        "\n",
        "print(pattern in S)\n",
        "\n",
        "# if you want to search more complex pattern? \n",
        "# using regular expression!\n",
        "syntax = \"[0-9]{20}\""
      ],
      "execution_count": null,
      "outputs": [
        {
          "output_type": "stream",
          "text": [
            "True\n"
          ],
          "name": "stdout"
        }
      ]
    },
    {
      "cell_type": "markdown",
      "metadata": {
        "id": "Hjry1Nah-xZz"
      },
      "source": [
        "## Special Characters"
      ]
    },
    {
      "cell_type": "markdown",
      "metadata": {
        "id": "XmzG8NE6-xZ0"
      },
      "source": [
        "| Special Characters | Discription |\n",
        "| :-: | :- |\n",
        "|**.**\t  |match any character except a newline|\n",
        "|**\\***   |match 0 or more repetitions of the preceding character\t|\n",
        "|**\\+**\t  |match 1 or more repetitions of the preceding character\t|\n",
        "|**{m}**  |match exactly m copies of the previous character |\n",
        "|**{m,n}**|match from m to n repetitions of the preceding character|\n",
        "|**\\**   |escapes special characters | \n",
        "|**[ ]** |Used to indicate a set of characters |\n",
        "| |**[amk]** will match 'a', 'm', or 'k'  |\n",
        "| |**[a-z]** will match any lowercase ASCII letter  |\n",
        "| |**[0-5][0-9]** will match all the two-digits numbers from 00 to 59|"
      ]
    },
    {
      "cell_type": "markdown",
      "metadata": {
        "id": "wWnEMvwJ-xZ1"
      },
      "source": [
        "補充資料\n",
        "\n",
        "* [更詳盡的 regular expression 符號解釋](https://atedev.wordpress.com/2007/11/23/%E6%AD%A3%E8%A6%8F%E8%A1%A8%E7%A4%BA%E5%BC%8F-regular-expression/)\n",
        "* [常見的 regular expression 寫法](https://www.analyticsvidhya.com/blog/2017/03/extracting-information-from-reports-using-regular-expressons-library-in-python/)"
      ]
    },
    {
      "cell_type": "markdown",
      "metadata": {
        "id": "KJ8dMePZ-xZ1"
      },
      "source": [
        "##  re.findall"
      ]
    },
    {
      "cell_type": "code",
      "metadata": {
        "id": "zsE1lOWy-xZ2"
      },
      "source": [
        "# import re\n",
        "# re.findall(pattern, string)"
      ],
      "execution_count": null,
      "outputs": []
    },
    {
      "cell_type": "code",
      "metadata": {
        "id": "yim01fMQ-xZ5"
      },
      "source": [
        "import re"
      ],
      "execution_count": null,
      "outputs": []
    },
    {
      "cell_type": "code",
      "metadata": {
        "id": "mH1BKTVd-xZ8",
        "outputId": "623775e7-08d0-4ae9-9739-389bb5b79f69"
      },
      "source": [
        "string = \"This is demo string, do nothing!\"\n",
        "pattern = \"is\"\n",
        "print(re.findall(pattern, string))"
      ],
      "execution_count": null,
      "outputs": [
        {
          "output_type": "stream",
          "text": [
            "['is', 'is']\n"
          ],
          "name": "stdout"
        }
      ]
    },
    {
      "cell_type": "code",
      "metadata": {
        "id": "t2-wKeVu-xZ_",
        "outputId": "be4e3003-0689-4941-990c-912aaf7005a1"
      },
      "source": [
        "# find numbers\n",
        "string = '12 drummers drumming, 111 pipers piping, 1006 lords a-leaping'\n",
        "pattern = \"[0-9]+\"\n",
        "print(re.findall(pattern, string))"
      ],
      "execution_count": null,
      "outputs": [
        {
          "output_type": "stream",
          "text": [
            "['12', '111', '1006']\n"
          ],
          "name": "stdout"
        }
      ]
    },
    {
      "cell_type": "code",
      "metadata": {
        "id": "s2SFr2mT-xaE",
        "outputId": "360b8e48-377a-4ce4-daf3-05d3ad097782"
      },
      "source": [
        "# find letters\n",
        "string = 'find: can, man, fan, skip: dan, ran, pan'\n",
        "pattern = \"[cmf]an\"\n",
        "print(re.findall(pattern, string))"
      ],
      "execution_count": null,
      "outputs": [
        {
          "output_type": "stream",
          "text": [
            "['can', 'man', 'fan']\n"
          ],
          "name": "stdout"
        }
      ]
    },
    {
      "cell_type": "code",
      "metadata": {
        "id": "zmkyA7Vk-xaH",
        "outputId": "64a5de55-5fb9-4237-a270-ffd2d9f16c22"
      },
      "source": [
        "# find e-mail\n",
        "email_text = \"\"\"\n",
        "Big Data Analytics/ Deep LearningSocial Computing / Computational Social Science / Crowdsourcing\n",
        "Multimediaand Network SystemsQuality of ExperienceInformation SecurityPh.D. candidate at NTU EEchihfan02-27883799#1602Camera CalibrationComputer VisionData\n",
        "Analysiscmchang02-27883799#1671System OptimizationMachine LearningyusraBig data\n",
        "analysiscclin02-27883799#1668Data Analysisrusi02-27883799#1668Government Procurement ActFinancial\n",
        "Managementkatekuen02-27883799#1602AdministrationEvent Planningseanyu02-27883799#1668Data \n",
        "AnalysisPsychology & NeuroscienceMarketingxinchinchenEmbedded Systemkyoyachuan062602-27883799\n",
        "#1601FinTechActuarial ScienceData Analysiskai0604602-27883799#1601Data AnalysisMachine Learningchloe02-27839427Accountingafun02-27883799 felix2018@iis.sinica.edu.tw\n",
        "#1673Data AnalysisWeb developmentyunhsu198902-27883799#1668MarketingTIGP Ph.D. Fellow at Academia Sinica & NCCUbaowalyMachine LearningData AnalysisSocial Computingchangyc1427883799#1678\n",
        "Data Analysisjimmy1592302-2788379 jimmy15923@iis.sinica.com.tw#1688Data AnalysisjasontangAnalysisMachine Learninguchen02-27883799#1668Deep Learningpjwu02-27883799#1604Computational PhotographyData Analysis\n",
        "\"\"\"\n",
        "\n",
        "pattern = \"[A-Za-z0-9._]+@[A-Za-z.]+[com|edu]\\.tw\"\n",
        "\n",
        "print(re.findall(pattern, email_text))"
      ],
      "execution_count": null,
      "outputs": [
        {
          "output_type": "stream",
          "text": [
            "['felix2018@iis.sinica.edu.tw', 'jimmy15923@iis.sinica.com.tw']\n"
          ],
          "name": "stdout"
        }
      ]
    },
    {
      "cell_type": "raw",
      "metadata": {
        "id": "STI8jbDL-xaK"
      },
      "source": [
        "---"
      ]
    },
    {
      "cell_type": "code",
      "metadata": {
        "id": "l7DRPvHN3mdX"
      },
      "source": [
        "# quiz. 請用regular expression寫出下列對應的pattern\n",
        "\n",
        "# 同時匹配 abcdefg, abcde, abc\n",
        "string = 'abcdefg, abcde, abc'\n",
        "\n",
        "# 同時匹配 abc123xyz, abcde22a, abc456aaa\n",
        "string = 'abc123xyz, abcde22a, bac123, abc456aaa, 019sss'\n",
        "\n",
        "# 匹配 \"catcat\"\n",
        "string = 'abc123xyz, abc456aaa, cat, catcat'\n",
        "\n",
        "# 同時匹配 wazzzzzup, wazzzup \n",
        "string = 'abc123xyz, abc456aaa, cat, catcat, wazzzzzup, wazzzup'\n",
        "\n",
        "# 同時匹配 aaaabcc, aabbbbc, aacc\n",
        "string = 'aaaabcc, aabbbbc, aacc, catcat, wazzzzzup, wazzzup'\n",
        "\n",
        "# 匹配手機號碼, 格式為：0987-654-321  \n",
        "string = 'aaaabcc, 0900-111-222, 02-2222-0000, wazzzup, 0987-654-321'\n",
        "\n",
        "# 匹配右方格式, xxx.xxx.xxx.xxx (其中 x 是 0-9 的數字)  \n",
        "string = 'aaa.abcc, xxx.xxx.xxx.xxx, 100.010.001.000, 179.092.888.abc, 111.222.333.000'"
      ],
      "execution_count": null,
      "outputs": []
    },
    {
      "cell_type": "code",
      "metadata": {
        "id": "70a0n8QE3q1-",
        "cellView": "form"
      },
      "source": [
        "#@title Answer\n",
        "#答案有很多種，這邊提供其中一種解答\n",
        "import re\n",
        "\n",
        "# 同時匹配 abcdefg, abcde, abc\n",
        "string = 'abcdefg, abcde, abc'\n",
        "pattern = 'abc[a-z]*'\n",
        "print(re.findall(pattern, string))\n",
        "\n",
        "# 同時匹配 abc123xyz, abcde22a, abc456aaa\n",
        "string = 'abc123xyz, abcde22a, bac123, abc456aaa, 019sss'\n",
        "pattern = 'abc[a-z0-9]*'\n",
        "print(re.findall(pattern, string))\n",
        "\n",
        "# 匹配 \"catcat\"\n",
        "string = 'abc123xyz, abc456aaa, cat, catcat'\n",
        "pattern = 'catcat'\n",
        "print(re.findall(pattern, string))\n",
        "\n",
        "# 同時匹配 wazzzzzup, wazzzup \n",
        "string = 'abc123xyz, abc456aaa, cat, catcat, wazzzzzup, wazzzup'\n",
        "pattern = 'wa[z]+up'\n",
        "print(re.findall(pattern, string))\n",
        "\n",
        "# 同時匹配 aaaabcc, aabbbbc, aacc\n",
        "string = 'aaaabcc, aabbbbc, aacc, catcat, wazzzzzup, wazzzup'\n",
        "pattern = 'a+b*c+'\n",
        "print(re.findall(pattern, string))\n",
        "\n",
        "\n",
        "# 匹配手機號碼, 格式為：0987-654-321  \n",
        "string = 'aaaabcc, 0900-111-222, 02-2222-0000, wazzzup, 0987-654-321'\n",
        "pattern = '[0-9]{4}-[0-9]{3}-[0-9]{3}'\n",
        "print(re.findall(pattern, string))\n",
        "\n",
        "# 匹配右方格式, xxx.xxx.xxx.xxx (其中 x 是 0-9 的數字)  \n",
        "string = 'aaa.abcc, xxx.xxx.xxx.xxx, 100.010.001.000, 179.092.888.abc, 111.222.333.000'\n",
        "pattern = '[0-9]{3}.[0-9]{3}.[0-9]{3}.[0-9]{3}'\n",
        "print(re.findall(pattern, string))"
      ],
      "execution_count": null,
      "outputs": []
    }
  ]
}