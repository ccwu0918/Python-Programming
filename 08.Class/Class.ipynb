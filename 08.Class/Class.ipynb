{
  "nbformat": 4,
  "nbformat_minor": 0,
  "metadata": {
    "kernelspec": {
      "display_name": "Python 3",
      "language": "python",
      "name": "python3"
    },
    "language_info": {
      "codemirror_mode": {
        "name": "ipython",
        "version": 3
      },
      "file_extension": ".py",
      "mimetype": "text/x-python",
      "name": "python",
      "nbconvert_exporter": "python",
      "pygments_lexer": "ipython3",
      "version": "3.7.3"
    },
    "colab": {
      "name": "Class",
      "provenance": [],
      "include_colab_link": true
    }
  },
  "cells": [
    {
      "cell_type": "markdown",
      "metadata": {
        "id": "view-in-github",
        "colab_type": "text"
      },
      "source": [
        "<a href=\"https://colab.research.google.com/github/ccwu0918/Python-Programming/blob/master/08.Class/Class.ipynb\" target=\"_parent\"><img src=\"https://colab.research.google.com/assets/colab-badge.svg\" alt=\"Open In Colab\"/></a>"
      ]
    },
    {
      "cell_type": "code",
      "metadata": {
        "id": "toPxvU2hcKfp",
        "colab": {
          "base_uri": "https://localhost:8080/",
          "height": 579
        },
        "outputId": "eb7ae252-8ef8-48ed-90e5-353fc71a08f5"
      },
      "source": [
        "from IPython.display import HTML\n",
        "HTML(\"\"\"\n",
        "    <div style=\"display: flex; justify-content: center;\">\n",
        "        <video width=1000 controls>\n",
        "              <source src=\"https://drive.google.com/uc?id=10xgJR_6GvLxq2AO5-WiO9AgMgwIsbKbN\" type=\"video/mp4\">\n",
        "        </video>\n",
        "    </div>\n",
        "\"\"\" )"
      ],
      "execution_count": null,
      "outputs": [
        {
          "output_type": "execute_result",
          "data": {
            "text/html": [
              "\n",
              "    <div style=\"display: flex; justify-content: center;\">\n",
              "        <video width=1000 controls>\n",
              "              <source src=\"https://drive.google.com/uc?id=10xgJR_6GvLxq2AO5-WiO9AgMgwIsbKbN\" type=\"video/mp4\">\n",
              "        </video>\n",
              "    </div>\n"
            ],
            "text/plain": [
              "<IPython.core.display.HTML object>"
            ]
          },
          "metadata": {
            "tags": []
          },
          "execution_count": 1
        }
      ]
    },
    {
      "cell_type": "markdown",
      "metadata": {
        "id": "VwXM2L5knERC"
      },
      "source": [
        "# 物件導向 (Object Oriented Programming)"
      ]
    },
    {
      "cell_type": "markdown",
      "metadata": {
        "id": "ES8Pl1SrnERD"
      },
      "source": [
        "本章節內容大綱\n",
        "* [Class](#Class)\n",
        "* [Class的功能](#Class的功能(Method))\n",
        "* [Class的繼承](#Class的繼承(Inheritance))"
      ]
    },
    {
      "cell_type": "markdown",
      "metadata": {
        "id": "d000CfECnERS"
      },
      "source": [
        "## Class"
      ]
    },
    {
      "cell_type": "code",
      "metadata": {
        "id": "U0V18TxSnERY"
      },
      "source": [
        "name1 = \"Adam\"\n",
        "age1 = 28\n",
        "height1 = 180\n",
        "weight1 = 70\n",
        "\n",
        "name2 = \"Eva\"\n",
        "age2 = 24\n",
        "height2 = 157\n",
        "weight2 = 49"
      ],
      "execution_count": null,
      "outputs": []
    },
    {
      "cell_type": "code",
      "metadata": {
        "id": "rTwHVTm5nER4"
      },
      "source": [
        "class person:\n",
        "\n",
        "    def __init__(self, name, age, height, weight): # 初始化，每次宣告一個此 Class 的物件時會呼叫\n",
        "        self.name = name\n",
        "        self.age = age\n",
        "        self.height = height\n",
        "        self.weight = weight\n",
        "\n",
        "    def __repr__(self):  # 設定使用 print 印出此類別的物件時要印出的東西 (回傳字串)\n",
        "        return f'Class Person: {self.name}'"
      ],
      "execution_count": null,
      "outputs": []
    },
    {
      "cell_type": "code",
      "metadata": {
        "id": "pvZWNixZnESW"
      },
      "source": [
        "p1 = person(\"Adam\", 28, 180, 70)\n",
        "# p2 = person(\"Eva\", 24, 157, 49)"
      ],
      "execution_count": null,
      "outputs": []
    },
    {
      "cell_type": "code",
      "metadata": {
        "id": "e4aRLhkHnES9"
      },
      "source": [
        "# print(p1)\n",
        "# print(p1.name)\n",
        "# print(p1.weight)\n",
        "\n",
        "# print(p2)\n",
        "# print(p2.age)\n",
        "# print(p2.height)"
      ],
      "execution_count": null,
      "outputs": []
    },
    {
      "cell_type": "markdown",
      "metadata": {
        "id": "AsU7ZiTJnETV"
      },
      "source": [
        "## Class的功能(Method)"
      ]
    },
    {
      "cell_type": "code",
      "metadata": {
        "id": "eqbW0QexnETb"
      },
      "source": [
        "class person:\n",
        "\n",
        "    def __init__(self, name, age, height, weight):\n",
        "        self.name = name\n",
        "        self.age = age\n",
        "        self.height = height\n",
        "        self.weight = weight\n",
        "        \n",
        "    def __repr__(self):\n",
        "        return f'Class Person: {self.name}'\n",
        "\n",
        "    # 屬於此類別的 function ，稱作 method\n",
        "    def BMI(self):\n",
        "        return round(self.weight / ((self.height/100)**2), 1)"
      ],
      "execution_count": null,
      "outputs": []
    },
    {
      "cell_type": "code",
      "metadata": {
        "id": "oauCZ9DfnET-"
      },
      "source": [
        "p2 = person(\"Eva\", 24, 157, 49, 'Female')\n",
        "\n",
        "print(p2.BMI())"
      ],
      "execution_count": null,
      "outputs": []
    },
    {
      "cell_type": "markdown",
      "metadata": {
        "id": "hPhmplheS6V7"
      },
      "source": [
        "---"
      ]
    },
    {
      "cell_type": "code",
      "metadata": {
        "id": "ZoElX_SZS4lv"
      },
      "source": [
        "# quiz1: 運用 person 內的一些屬性（性別年齡身高體重）實作 BMR 的計算。\n",
        "\n",
        "# BMR(男)=(13.7×體重(公斤))+(5.0×身高(公分))-(6.8×年齡)+66\n",
        "# BMR(女)=(9.6×體重(公斤))+(1.8×身高(公分))-(4.7×年齡)+655\n",
        "class person:\n",
        "\n",
        "    def __init__(self, name, age, height, weight, gender): \n",
        "        self.name = name\n",
        "        self.age = age\n",
        "        self.gender = gender # 'Male' or 'Female'\n",
        "        self.height = height\n",
        "        self.weight = weight\n",
        "\n",
        "    def __repr__(self):\n",
        "        return f'Class Person: {self.name}'\n",
        "\n",
        "    def BMR(self):\n",
        "        pass"
      ],
      "execution_count": null,
      "outputs": []
    },
    {
      "cell_type": "code",
      "metadata": {
        "id": "62BVyeFlS8WE",
        "cellView": "form"
      },
      "source": [
        "#@title Answer\n",
        "\n",
        "class person:\n",
        "\n",
        "    def __init__(self, name, age, height, weight, gender): \n",
        "        self.name = name\n",
        "        self.age = age\n",
        "        self.gender = gender # 'Male' or 'Female'\n",
        "        self.height = height\n",
        "        self.weight = weight\n",
        "\n",
        "    def __repr__(self):\n",
        "        return f'Class Person: {self.name}'\n",
        "\n",
        "    def BMR(self):\n",
        "        # BMR(男)=(13.7×體重(公斤))+(5.0×身高(公分))-(6.8×年齡)+66\n",
        "        # BMR(女)=(9.6×體重(公斤))+(1.8×身高(公分))-(4.7×年齡)+655\n",
        "        \n",
        "        if self.gender == 'Male':\n",
        "            return (13.7*self.weight)+(5.0*self.height)-(6.8*self.age)+66.0\n",
        "        elif self.gender == 'Female':\n",
        "            return ( 9.6*self.weight)+(1.8*self.height)-(4.7*self.age)+655.0\n",
        "        else:\n",
        "            print('Please check your gender. It must be \"Male\" or \"Female\".')\n",
        "    \n",
        "    \n",
        "p1 = person('TA', 20, 180, 70, 'Male')\n",
        "print(p1.BMR())"
      ],
      "execution_count": null,
      "outputs": []
    },
    {
      "cell_type": "code",
      "metadata": {
        "id": "332k29UNckVr",
        "colab": {
          "base_uri": "https://localhost:8080/",
          "height": 579
        },
        "outputId": "de6cf64a-a847-4a06-cd42-b698a274c059"
      },
      "source": [
        "from IPython.display import HTML\n",
        "HTML(\"\"\"\n",
        "    <div style=\"display: flex; justify-content: center;\">\n",
        "        <video width=1000 controls>\n",
        "              <source src=\"https://drive.google.com/uc?id=17zn-833mAicfAQRVUcp7S6eLf-rCGouF\" type=\"video/mp4\">\n",
        "        </video>\n",
        "    </div>\n",
        "\"\"\" )"
      ],
      "execution_count": null,
      "outputs": [
        {
          "output_type": "execute_result",
          "data": {
            "text/html": [
              "\n",
              "    <div style=\"display: flex; justify-content: center;\">\n",
              "        <video width=1000 controls>\n",
              "              <source src=\"https://drive.google.com/uc?id=17zn-833mAicfAQRVUcp7S6eLf-rCGouF\" type=\"video/mp4\">\n",
              "        </video>\n",
              "    </div>\n"
            ],
            "text/plain": [
              "<IPython.core.display.HTML object>"
            ]
          },
          "metadata": {
            "tags": []
          },
          "execution_count": 2
        }
      ]
    },
    {
      "cell_type": "markdown",
      "metadata": {
        "id": "NQNZYIVanEUX"
      },
      "source": [
        "## Class的繼承(Inheritance)"
      ]
    },
    {
      "cell_type": "code",
      "metadata": {
        "id": "J0RzSNknnEUe"
      },
      "source": [
        "'''\n",
        "class 子類別(父類別):\n",
        "    do something\n",
        "'''"
      ],
      "execution_count": null,
      "outputs": []
    },
    {
      "cell_type": "code",
      "metadata": {
        "id": "Mt1bnvwMnEU1"
      },
      "source": [
        "class person:\n",
        "\n",
        "    def __init__(self, name, age, height, weight, gender):\n",
        "        self.name = name\n",
        "        self.age = age\n",
        "        self.height = height\n",
        "        self.weight = weight\n",
        "        self.gender = gender\n",
        "        \n",
        "    def __repr__(self):\n",
        "        return f'Class Person: {self.name}'\n",
        "\n",
        "    # 屬於此類別的 function ，稱作 method\n",
        "    def BMI(self):\n",
        "        return round(self.weight / ((self.height/100)**2), 1)"
      ],
      "execution_count": null,
      "outputs": []
    },
    {
      "cell_type": "code",
      "metadata": {
        "id": "5RIw_YujnEVX"
      },
      "source": [
        "class student(person):\n",
        "    \n",
        "    def __init__(self, name, age, height, weight, gender, academy, Id, grades):\n",
        "        super().__init__(name, age, height, weight, gender)\n",
        "        self.academy = academy\n",
        "        self.Id = Id\n",
        "        self.grades = grades\n",
        "    \n",
        "    def __repr__(self):\n",
        "        return f'Student of {self.academy}: {self.name}'\n",
        "    \n",
        "    def GPA(self):\n",
        "        return sum(self.grades)/len(self.grades)\n",
        "    \n",
        "class employee(person):\n",
        "    \n",
        "    def __init__(self, name, age, height, weight, gender, company, Id, salary, bonus):\n",
        "        super().__init__(name, age, height, weight, gender)\n",
        "        self.company = company\n",
        "        self.Id = Id\n",
        "        self.salary = salary\n",
        "        self.bonus = bonus\n",
        "        \n",
        "    def __repr__(self):\n",
        "        return f'Employee of {self.company}: {self.name}'\n",
        "    \n",
        "    def annual_salary(self):\n",
        "        return self.salary * (12 + self.bonus)"
      ],
      "execution_count": null,
      "outputs": []
    },
    {
      "cell_type": "code",
      "metadata": {
        "id": "ubvw4zV7nEVu"
      },
      "source": [
        "A = student(\"Eva\", 24, 157, 49, 'Female', 'AIA', '001', [60, 70, 70])\n",
        "print(A)\n",
        "print(A.GPA())\n",
        "print(A.BMI())"
      ],
      "execution_count": null,
      "outputs": []
    },
    {
      "cell_type": "code",
      "metadata": {
        "id": "2OQB0kGjnEWF"
      },
      "source": [
        "B = employee(\"Adam\", 28, 180, 70, 'Male', 'Google', '123654', 100000, 3)\n",
        "print(B)\n",
        "print(B.annual_salary())\n",
        "print(B.BMI())"
      ],
      "execution_count": null,
      "outputs": []
    },
    {
      "cell_type": "markdown",
      "metadata": {
        "id": "znkl-m-YTEQD"
      },
      "source": [
        "---"
      ]
    },
    {
      "cell_type": "code",
      "metadata": {
        "id": "2G47qHn5TFQc"
      },
      "source": [
        "# quiz2: 給定一個正多邊形的父類別，使用繼承分別定出正三角形，正四邊形的子類別。\n",
        "\n",
        "# 並在正三角形類別實作面積與高的 method。\n",
        "# 在正四邊形類別實作面積與對角線長的 method。\n",
        "\n",
        "class polygon: #正多邊形\n",
        "    \n",
        "    def __init__(self, length):\n",
        "        self.lenght = length\n",
        "        \n",
        "    def __repr__(self):\n",
        "        return f'Polygon of length {self.length}'\n",
        "    \n",
        "class triangle(polygon):\n",
        "    \n",
        "    def __init__(self, length):\n",
        "        pass\n",
        "    def __repr__(self):\n",
        "        pass\n",
        "    def area(self):\n",
        "        pass\n",
        "    def height(self):\n",
        "        pass\n",
        "\n",
        "class square(polygon):\n",
        "    \n",
        "    def __init__(self, length):\n",
        "        pass\n",
        "    def __repr__(self):\n",
        "        pass\n",
        "    def area(self):\n",
        "        pass\n",
        "    def diagonal(self):\n",
        "        pass"
      ],
      "execution_count": null,
      "outputs": []
    },
    {
      "cell_type": "code",
      "metadata": {
        "id": "_tsmCMpbTJip",
        "colab": {
          "base_uri": "https://localhost:8080/",
          "height": 136
        },
        "outputId": "7d8eb9cd-df27-41b3-ff32-3660db3982ef"
      },
      "source": [
        "#@title Answer\n",
        "import math\n",
        "\n",
        "class polygon: #正多邊形\n",
        "    \n",
        "    def __init__(self, length):\n",
        "        self.length = length\n",
        "        \n",
        "    def __repr__(self):\n",
        "        return f'Polygon length: {self.length}'\n",
        "    \n",
        "class triangle(polygon):\n",
        "    \n",
        "    def __init__(self, length):\n",
        "        super().__init__(length)\n",
        "        \n",
        "    def __repr__(self):\n",
        "        return f'Triangle length: {self.length}'\n",
        "    \n",
        "    def area(self):\n",
        "        return round(math.sqrt(3)/4*self.length**2, 3)\n",
        "    \n",
        "    def height(self):\n",
        "        return round(math.sqrt(3)/2*self.length, 3)\n",
        "\n",
        "class square(polygon):\n",
        "    \n",
        "    def __init__(self, length):\n",
        "        super().__init__(length)\n",
        "        \n",
        "    def __repr__(self):\n",
        "        return f'Square length: {self.length}'\n",
        "    \n",
        "    def area(self):\n",
        "        return self.length**2\n",
        "    \n",
        "    def diagonal(self):\n",
        "        return round(math.sqrt(2)*self.length, 3)\n",
        "\n",
        "\n",
        "# 可以使用此程式驗證你的 class 有沒有撰寫正確\n",
        "tri5 = triangle(10)\n",
        "print(tri5)\n",
        "print(tri5.area())\n",
        "print(tri5.height(), '\\n')\n",
        "\n",
        "sqr7 = square(7)\n",
        "print(sqr7)\n",
        "print(sqr7.area())\n",
        "print(sqr7.diagonal())"
      ],
      "execution_count": null,
      "outputs": [
        {
          "output_type": "stream",
          "text": [
            "Triangle length: 10\n",
            "43.301\n",
            "8.66 \n",
            "\n",
            "Square length: 7\n",
            "49\n",
            "9.899\n"
          ],
          "name": "stdout"
        }
      ]
    },
    {
      "cell_type": "code",
      "metadata": {
        "id": "Pc-Fx4Z_tcIY"
      },
      "source": [],
      "execution_count": null,
      "outputs": []
    }
  ]
}