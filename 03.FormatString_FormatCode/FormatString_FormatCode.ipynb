{
  "nbformat": 4,
  "nbformat_minor": 0,
  "metadata": {
    "kernelspec": {
      "display_name": "Python 3",
      "language": "python",
      "name": "python3"
    },
    "language_info": {
      "codemirror_mode": {
        "name": "ipython",
        "version": 3
      },
      "file_extension": ".py",
      "mimetype": "text/x-python",
      "name": "python",
      "nbconvert_exporter": "python",
      "pygments_lexer": "ipython3",
      "version": "3.7.3"
    },
    "colab": {
      "name": "FormatString_FormatCode",
      "provenance": [],
      "include_colab_link": true
    }
  },
  "cells": [
    {
      "cell_type": "markdown",
      "metadata": {
        "id": "view-in-github",
        "colab_type": "text"
      },
      "source": [
        "<a href=\"https://colab.research.google.com/github/ccwu0918/Python-Programming/blob/master/03.FormatString_FormatCode/FormatString_FormatCode.ipynb\" target=\"_parent\"><img src=\"https://colab.research.google.com/assets/colab-badge.svg\" alt=\"Open In Colab\"/></a>"
      ]
    },
    {
      "cell_type": "code",
      "metadata": {
        "id": "cykLMAVhWl64",
        "colab": {
          "base_uri": "https://localhost:8080/",
          "height": 579
        },
        "outputId": "b8f94bc5-0ef4-4e22-9e10-84a8917b5ddf"
      },
      "source": [
        "from IPython.display import HTML\n",
        "HTML(\"\"\"\n",
        "    <div style=\"display: flex; justify-content: center;\">\n",
        "        <video width=1000 controls>\n",
        "              <source src=\"https://drive.google.com/uc?id=1SLGGGqMToXRCUuOgQgZBhziBCepyFFbt\" type=\"video/mp4\">\n",
        "        </video>\n",
        "    </div>\n",
        "\"\"\" )"
      ],
      "execution_count": null,
      "outputs": [
        {
          "output_type": "execute_result",
          "data": {
            "text/html": [
              "\n",
              "    <div style=\"display: flex; justify-content: center;\">\n",
              "        <video width=1000 controls>\n",
              "              <source src=\"https://drive.google.com/uc?id=1SLGGGqMToXRCUuOgQgZBhziBCepyFFbt\" type=\"video/mp4\">\n",
              "        </video>\n",
              "    </div>\n"
            ],
            "text/plain": [
              "<IPython.core.display.HTML object>"
            ]
          },
          "metadata": {
            "tags": []
          },
          "execution_count": 1
        }
      ]
    },
    {
      "cell_type": "markdown",
      "metadata": {
        "id": "xQXL5OR9oBvS"
      },
      "source": [
        "## 格式化字串 Format String/Format Code"
      ]
    },
    {
      "cell_type": "markdown",
      "metadata": {
        "id": "A7yhQNhhoBvU"
      },
      "source": [
        "格式化字串是各個型態的變數被 print 出來時的格式定義，例如浮點數要印幾位、整數要以幾進位印出等。\n",
        "\n",
        "整數　　　　　|   %d   | decimal\n",
        "\n",
        "整數八進位　　|   %o   | octal  \n",
        "\n",
        "整數十六進位　|   %x   | hexadecimal\n",
        "\n",
        "浮點數　　　　|   %f   | float \n",
        "\n",
        "字串　　　　　|   %s   | string"
      ]
    },
    {
      "cell_type": "code",
      "metadata": {
        "id": "gSMXJ3c1oBvW",
        "outputId": "df2518d2-77d6-41ff-f412-e73990635b1f"
      },
      "source": [
        "I, F, S = 123, 123.0, 'ABC'\n",
        "print(\"%d %f %s\" % (I, F, S))\n",
        "\n",
        "# 一般整數使用 %d (八進位為 %o, 十六進位為 %x, 二進位為 %b，可自行嘗試)\n",
        "#print(\"%d %o %x\" % (I, I, I))\n",
        "\n",
        "# 浮點數為 %f (科學記號 %e) \n",
        "#print(\"%f %e\" % (F, F))\n",
        "\n",
        "# 字串為 %s\n",
        "#print(\"%s\" % S)\n",
        "\n",
        "# f-string 模式下則會視變數種類自動判斷輸出 format，所以若無特殊格式需求可不用打格式字串化\n",
        "#print(f'{I} {F} {S}')"
      ],
      "execution_count": null,
      "outputs": [
        {
          "output_type": "stream",
          "text": [
            "123 123.000000 ABC\n"
          ],
          "name": "stdout"
        }
      ]
    },
    {
      "cell_type": "code",
      "metadata": {
        "id": "1FBRA1sKoBvn",
        "outputId": "c5006c05-3237-4b83-b1c8-121cbbbcef05"
      },
      "source": [
        "# 預設正常輸出變數\n",
        "print(f'I = {I}')\n",
        "# 若要讓這個變數佔 6 格(預設置右)，在 d 前加入想要佔的位數，以下行為例，輸出為 _ _ _ 1 2 3 (底線為空格)\n",
        "print(f'I = {I:6d}')\n",
        "# 若要讓這個變數佔 6 格(預設置右)，且多餘的空位補 0，則在 6d 前再加入一個 0，以下行為例， 輸出為 0 0 0 1 2 3\n",
        "print(f'I = {I:06d}')"
      ],
      "execution_count": null,
      "outputs": [
        {
          "output_type": "stream",
          "text": [
            "I = 123\n",
            "I =    123\n",
            "I = 000123\n"
          ],
          "name": "stdout"
        }
      ]
    },
    {
      "cell_type": "code",
      "metadata": {
        "id": "jqszdNnuoBvs",
        "outputId": "52e2e30a-e581-4c50-ae56-4de81970a6e4"
      },
      "source": [
        "pi = 3.14159265358\n",
        "\n",
        "# 預設將變數置左，並輸出多位小數點\n",
        "print(f'{pi}')\n",
        "# 指定小數點位數，在 f 前加入需要的小數點位數，並前面再加一個點號\n",
        "print(f'{pi:.4f}')\n",
        "# 若想像整數一樣佔固定格數，在點號前加入總共(含小數)想要佔的位數，以下行為例， _ _ _ _ 3 . 1 4 1 6 (總共10格置右，小數點4位)\n",
        "print(f'{pi:12.4f}')\n",
        "# 若想在佔格的多餘處補 0，在想要佔的位數前面再加入一個 0\n",
        "print(f'{pi:012.4f}')"
      ],
      "execution_count": null,
      "outputs": [
        {
          "output_type": "stream",
          "text": [
            "3.14159265358\n",
            "3.1416\n",
            "      3.1416\n",
            "0000003.1416\n"
          ],
          "name": "stdout"
        }
      ]
    },
    {
      "cell_type": "code",
      "metadata": {
        "id": "uhQh87HGoBv2",
        "outputId": "3bbfa29a-5a36-4052-9ba4-f8347682236d"
      },
      "source": [
        "S = \"abcde\"\n",
        "\n",
        "# 補充：自定義置左及置中，以及填補空位的字元\n",
        "\n",
        "# 佔 15 格置左\n",
        "print(f'{S:<15s}')\n",
        "# 佔 15 格置左，空閒格子補 _\n",
        "print(f'{S:_<15s}')\n",
        "# 佔 15 格置中\n",
        "print(f'{S:^15s}')\n",
        "# 佔 15 格置中，空閒格子補 *\n",
        "print(f'{S:*^15s}')\n",
        "# 佔 15 格置右\n",
        "print(f'{S:>15s}')\n",
        "# 佔 15 格置右，空閒格子補 ~\n",
        "print(f'{S:~>15s}')"
      ],
      "execution_count": null,
      "outputs": [
        {
          "output_type": "stream",
          "text": [
            "abcde          \n",
            "abcde__________\n",
            "     abcde     \n",
            "*****abcde*****\n",
            "          abcde\n",
            "~~~~~~~~~~abcde\n"
          ],
          "name": "stdout"
        }
      ]
    },
    {
      "cell_type": "markdown",
      "metadata": {
        "id": "2IlN7PvNoBv-"
      },
      "source": [
        "---"
      ]
    }
  ]
}