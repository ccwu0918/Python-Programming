{
  "nbformat": 4,
  "nbformat_minor": 0,
  "metadata": {
    "colab": {
      "name": "WhileLoop.ipynb",
      "provenance": [],
      "include_colab_link": true
    },
    "kernelspec": {
      "name": "python3",
      "display_name": "Python 3"
    }
  },
  "cells": [
    {
      "cell_type": "markdown",
      "metadata": {
        "id": "view-in-github",
        "colab_type": "text"
      },
      "source": [
        "<a href=\"https://colab.research.google.com/github/ccwu0918/Python-Programming/blob/master/06.ControlFlow/WhileLoop.ipynb\" target=\"_parent\"><img src=\"https://colab.research.google.com/assets/colab-badge.svg\" alt=\"Open In Colab\"/></a>"
      ]
    },
    {
      "cell_type": "code",
      "metadata": {
        "id": "XOuEmHyyHZ8D",
        "colab": {
          "base_uri": "https://localhost:8080/",
          "height": 517
        },
        "outputId": "4ed07a28-4b4f-45ac-a918-0848067884f0",
        "cellView": "form"
      },
      "source": [
        "#@title\n",
        "from IPython.display import HTML\n",
        "HTML(\"\"\"\n",
        "    <div style=\"display: flex; justify-content: center;\">\n",
        "        <video width=1000 controls>\n",
        "              <source src=\"https://drive.google.com/uc?id=1vSWhHXH9ICsi5FRFslypLXFn9Gob86zr\" type=\"video/mp4\">\n",
        "        </video>\n",
        "    </div>\n",
        "\"\"\" )"
      ],
      "execution_count": null,
      "outputs": [
        {
          "output_type": "execute_result",
          "data": {
            "text/html": [
              "\n",
              "    <div style=\"display: flex; justify-content: center;\">\n",
              "        <video width=1000 controls>\n",
              "              <source src=\"https://drive.google.com/uc?id=1vSWhHXH9ICsi5FRFslypLXFn9Gob86zr\" type=\"video/mp4\">\n",
              "        </video>\n",
              "    </div>\n"
            ],
            "text/plain": [
              "<IPython.core.display.HTML object>"
            ]
          },
          "metadata": {
            "tags": []
          },
          "execution_count": 1
        }
      ]
    },
    {
      "cell_type": "markdown",
      "metadata": {
        "id": "LEpLkFRG--rW"
      },
      "source": [
        "## while-loop"
      ]
    },
    {
      "cell_type": "code",
      "metadata": {
        "id": "xvURzBGg--rW"
      },
      "source": [
        "'''\n",
        "\n",
        "while迴圈執行的原則為，只要 statement 還是對的，迴圈就會繼續重複，直到敘述錯誤停止。下面是它的語法\n",
        "\n",
        "while statement:\n",
        "    do something\n",
        "\n",
        "'''"
      ],
      "execution_count": null,
      "outputs": []
    },
    {
      "cell_type": "code",
      "metadata": {
        "id": "uqfLwJ0Z--rZ"
      },
      "source": [
        "x = 0\n",
        "\n",
        "# 在此範例中，x 一開始為 0，所以敘述為真\n",
        "# 迴圈內每執行一次， x 的值即增多 1\n",
        "while x < 5: \n",
        "    print(x)\n",
        "    x = x + 1"
      ],
      "execution_count": null,
      "outputs": []
    },
    {
      "cell_type": "markdown",
      "metadata": {
        "id": "vYoVd9rq--rb"
      },
      "source": [
        "## Break"
      ]
    },
    {
      "cell_type": "code",
      "metadata": {
        "id": "ELcBxWUl--rc"
      },
      "source": [
        "# 若我們希望迴圈在發生某個情況時停止，但不確定那件事會在甚麼時候發生，可以使用無窮迴圈，也就是 while True。\n",
        "# 並在真正發生的時候使用 break 跳出迴圈。\n",
        "\n",
        "# 假設我們想要使用者輸入一個 \"三位數字\"，但由於無法預測使用者的行為，不知道他何時才會真的輸入三位數，這種時候就可使用 while True\n",
        "# (持續做 input())，若發現 input() 符合三位數，再行 break 跳出迴圈。\n",
        "\n",
        "while True:\n",
        "    value = input('Please Enter a number with 3 digits: ')\n",
        "    if value.isdigit() and len(value) == 3:\n",
        "        break\n",
        "        \n",
        "print(f'You entered {value}')"
      ],
      "execution_count": null,
      "outputs": []
    },
    {
      "cell_type": "markdown",
      "metadata": {
        "id": "RbsG5zfV--rf"
      },
      "source": [
        "## Continue"
      ]
    },
    {
      "cell_type": "code",
      "metadata": {
        "id": "feMRKbqP--rg"
      },
      "source": [
        "# 在某些情況，我們想跳過該次迭代，但又不想結束迴圈，這時我們可以使用 continue。\n",
        "\n",
        "# 範例：我們想要計算使用者輸入的 \"數字\" 總和，輸入次數不限，只要是數字就進行累加，若非數字則跳過，直到使用者輸入'q'結束程式\n",
        "# 必須涵蓋三個部分：\n",
        "# 1. 輸入 'q' 即結束迴圈 (使用 break)\n",
        "# 2. 輸入不是數字時跳過累加 (使用 continue)\n",
        "# 3. 其他情況 (輸入為數字)，累加\n",
        "\n",
        "Sum = 0\n",
        "while True:\n",
        "    \n",
        "    value = input('Please Enter a number: ') # value: string\n",
        "    \n",
        "    if value == 'q':\n",
        "        print('Quitting loop')\n",
        "        break\n",
        "    elif not value.isdigit(): #.isdigit():若該字串皆是數字，返回True; 若非數字，返回False\n",
        "        print(f'Not a number, ignored')\n",
        "        continue\n",
        "        \n",
        "    print(f'Got a number, summing up')\n",
        "    Sum += int(value)\n",
        "        \n",
        "print(f'The sum of numbers you entered: {Sum}')"
      ],
      "execution_count": null,
      "outputs": []
    },
    {
      "cell_type": "markdown",
      "metadata": {
        "id": "D_DZwAQY--ri"
      },
      "source": [
        "## Pass vs Continue"
      ]
    },
    {
      "cell_type": "code",
      "metadata": {
        "id": "_YC0UjMf--rj"
      },
      "source": [
        "for i in range(3):\n",
        "    pass"
      ],
      "execution_count": null,
      "outputs": []
    },
    {
      "cell_type": "code",
      "metadata": {
        "id": "VIR-qvh3--rm"
      },
      "source": [
        "# pass無作用，程式會繼續執行\n",
        "for i in range(3):\n",
        "    pass\n",
        "    print(i)"
      ],
      "execution_count": null,
      "outputs": []
    },
    {
      "cell_type": "code",
      "metadata": {
        "id": "1I30SU2n--rp"
      },
      "source": [
        "# continue會直接跳過此次迭代\n",
        "for i in range(3):\n",
        "    continue"
      ],
      "execution_count": null,
      "outputs": []
    }
  ]
}