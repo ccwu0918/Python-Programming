{
  "nbformat": 4,
  "nbformat_minor": 0,
  "metadata": {
    "colab": {
      "name": "生成式.ipynb",
      "provenance": [],
      "include_colab_link": true
    },
    "kernelspec": {
      "name": "python3",
      "display_name": "Python 3"
    }
  },
  "cells": [
    {
      "cell_type": "markdown",
      "metadata": {
        "id": "view-in-github",
        "colab_type": "text"
      },
      "source": [
        "<a href=\"https://colab.research.google.com/github/ccwu0918/Python-Programming/blob/master/06.ControlFlow/%E7%94%9F%E6%88%90%E5%BC%8F.ipynb\" target=\"_parent\"><img src=\"https://colab.research.google.com/assets/colab-badge.svg\" alt=\"Open In Colab\"/></a>"
      ]
    },
    {
      "cell_type": "code",
      "metadata": {
        "id": "nTckxYtaISSY",
        "colab": {
          "base_uri": "https://localhost:8080/",
          "height": 579
        },
        "outputId": "c01cef82-94fb-4225-870e-4d9bb958a34f",
        "cellView": "form"
      },
      "source": [
        "#@title\n",
        "from IPython.display import HTML\n",
        "HTML(\"\"\"\n",
        "    <div style=\"display: flex; justify-content: center;\">\n",
        "        <video width=1000 controls>\n",
        "              <source src=\"https://drive.google.com/uc?id=1YLHS5nMBsXH7_hOw7oemlcIR0PlUj8bR\" type=\"video/mp4\">\n",
        "        </video>\n",
        "    </div>\n",
        "\"\"\" )"
      ],
      "execution_count": null,
      "outputs": [
        {
          "output_type": "execute_result",
          "data": {
            "text/html": [
              "\n",
              "    <div style=\"display: flex; justify-content: center;\">\n",
              "        <video width=1000 controls>\n",
              "              <source src=\"https://drive.google.com/uc?id=1YLHS5nMBsXH7_hOw7oemlcIR0PlUj8bR\" type=\"video/mp4\">\n",
              "        </video>\n",
              "    </div>\n"
            ],
            "text/plain": [
              "<IPython.core.display.HTML object>"
            ]
          },
          "metadata": {
            "tags": []
          },
          "execution_count": 1
        }
      ]
    },
    {
      "cell_type": "markdown",
      "metadata": {
        "id": "F0I2tqnL--rr"
      },
      "source": [
        "## 生成式"
      ]
    },
    {
      "cell_type": "code",
      "metadata": {
        "id": "jL3Sn0sE--rs",
        "outputId": "ac6456e6-6b6e-4896-b0cf-06b5e5bf62f2"
      },
      "source": [
        "L = []\n",
        "\n",
        "for i in range(6):\n",
        "    L.append(i)\n",
        "print(L)\n",
        "\n",
        "# L = list(range(6))\n",
        "# print(L)"
      ],
      "execution_count": null,
      "outputs": [
        {
          "output_type": "stream",
          "text": [
            "[0, 1, 2, 3, 4, 5]\n"
          ],
          "name": "stdout"
        }
      ]
    },
    {
      "cell_type": "code",
      "metadata": {
        "id": "NeIv0VqS--ru",
        "outputId": "3d60e00b-528e-4354-92e4-b9dd9d586348"
      },
      "source": [
        "# list 生成式的格式為 :  \n",
        "# [運算式 for 項目 in 可迭代項目 (if 條件式)]\n",
        "# 注意運算式可為任意物件，例如 30, \"HI\", [i, i+1, i+2] ... 等\n",
        "\n",
        "L = [i+1 for i in range(6)]\n",
        "# i =  0, 1, 2, 3, 4, 5\n",
        "# L = [1, 2, 3, 4, 5, 6]\n",
        "print(L)"
      ],
      "execution_count": null,
      "outputs": [
        {
          "output_type": "stream",
          "text": [
            "[1, 2, 3, 4, 5, 6]\n"
          ],
          "name": "stdout"
        }
      ]
    },
    {
      "cell_type": "code",
      "metadata": {
        "id": "mmVYrdMT--rw",
        "outputId": "286a0e5e-7a6f-4f41-c4f2-0d77e7718f42"
      },
      "source": [
        "# List 的生成式 + 條件控制\n",
        "L = [i for i in range(6) if i % 2 == 0]\n",
        "# i = 0, 2, 4\n",
        "# L =[0, 2, 4]\n",
        "print(L)"
      ],
      "execution_count": null,
      "outputs": [
        {
          "output_type": "stream",
          "text": [
            "[0, 2, 4]\n"
          ],
          "name": "stdout"
        }
      ]
    },
    {
      "cell_type": "code",
      "metadata": {
        "id": "HU2EoT7V--r0",
        "outputId": "14113009-a603-4b2a-cbdc-bfd094b33bae"
      },
      "source": [
        "# Set 的生成式\n",
        "S = {i for i in range(6)}\n",
        "print(S)"
      ],
      "execution_count": null,
      "outputs": [
        {
          "output_type": "stream",
          "text": [
            "{0, 1, 2, 3, 4, 5}\n"
          ],
          "name": "stdout"
        }
      ]
    },
    {
      "cell_type": "code",
      "metadata": {
        "id": "8EAej2AZ--r2",
        "outputId": "54ee338d-929a-45ca-d435-71b02ba2370f"
      },
      "source": [
        "# Dictionary 的生成式，運算式須為 key : value\n",
        "D = {i+1: (i+1)**2 for i in range(6)}\n",
        "print(D)"
      ],
      "execution_count": null,
      "outputs": [
        {
          "output_type": "stream",
          "text": [
            "{1: 1, 2: 4, 3: 9, 4: 16, 5: 25, 6: 36}\n"
          ],
          "name": "stdout"
        }
      ]
    },
    {
      "cell_type": "code",
      "metadata": {
        "id": "N6xjSRc6--r5"
      },
      "source": [
        "# Tuple 沒有生成式 !"
      ],
      "execution_count": null,
      "outputs": []
    },
    {
      "cell_type": "markdown",
      "metadata": {
        "id": "twH86nPD2JUP"
      },
      "source": [
        "-------"
      ]
    },
    {
      "cell_type": "code",
      "metadata": {
        "id": "lRN4RLsX--sQ"
      },
      "source": [
        "# quiz1: 請使用 control flow 結合 for迴圈，計算此成績列的 GPA。\n",
        "\n",
        "# 成績與 GP 對照表\n",
        "# 90 <= score      : 4.3\n",
        "# 85 <= score < 90 : 4.0\n",
        "# 80 <= score < 85 : 3.7\n",
        "# 77 <= score < 80 : 3.3\n",
        "# 73 <= score < 77 : 3.0\n",
        "# 70 <= score < 73 : 2.7\n",
        "# 67 <= score < 70 : 2.3\n",
        "# 63 <= score < 67 : 2.0\n",
        "# 60 <= score < 63 : 1.7\n",
        "# 50 <= score < 60 : 1.0\n",
        "#       score < 50 : 0\n",
        "\n",
        "# 每筆資料為 (科目成績, 科目學分數)\n",
        "transcript = [(50, 1), (78, 2), (96, 2), (80, 3), (81, 2), (56, 3), (73, 3), (80, 3), (99, 2), (95, 1), \n",
        "              (87, 3), (76, 3), (77, 1), (81, 3), (89, 2), (53, 3), (59, 2), (68, 2), (54, 3), (58, 3)]"
      ],
      "execution_count": null,
      "outputs": []
    },
    {
      "cell_type": "code",
      "metadata": {
        "id": "FhLQZWLWWZPa",
        "cellView": "form"
      },
      "source": [
        "#@title Answer\n",
        "\n",
        "GPA_list = []\n",
        "\n",
        "for subj in transcript:\n",
        "    #print(subj)\n",
        "    if 90 <= subj[0]:\n",
        "        gpa_score = 4.3\n",
        "    elif 85 <= subj[0] < 90 : \n",
        "        gpa_score = 4.0\n",
        "    elif 80 <= subj[0] < 85 : \n",
        "        gpa_score = 3.7\n",
        "    elif 77 <= subj[0] < 80 : \n",
        "        gpa_score = 3.3\n",
        "    elif 73 <= subj[0] < 77 : \n",
        "        gpa_score = 3.0\n",
        "    elif 70 <= subj[0] < 73 : \n",
        "        gpa_score = 2.7\n",
        "    elif 67 <= subj[0] < 70 : \n",
        "        gpa_score = 2.3\n",
        "    elif 63 <= subj[0] < 67 : \n",
        "        gpa_score = 2.0\n",
        "    elif 60 <= subj[0] < 63 : \n",
        "        gpa_score = 1.7\n",
        "    elif 50 <= subj[0] < 60 : \n",
        "        gpa_score = 1.0\n",
        "    elif subj[0] < 50 : \n",
        "        gpa_score = 0.0        \n",
        "    else:\n",
        "        gpa_score = 0.0\n",
        "        \n",
        "    GPA_list.append(gpa_score)\n",
        "\n",
        "print('GPA score:', GPA_list)"
      ],
      "execution_count": null,
      "outputs": []
    },
    {
      "cell_type": "code",
      "metadata": {
        "id": "t10uyhzX--sT"
      },
      "source": [
        "# quiz2:下面是一個資料集的影像名稱，每張影像除了有六碼編號之外，還有它屬於的類別 (01 ~ 04)\n",
        "\n",
        "data = ['IMG035833_02.jpeg',\n",
        "        'IMG069933_03.jpeg',\n",
        "        'IMG001572_02.jpeg',\n",
        "        'IMG025945_02.jpeg',\n",
        "        'IMG024850_01.jpeg',\n",
        "        'IMG086288_03.jpeg',\n",
        "        'IMG069932_04.jpeg',\n",
        "        'IMG032322_04.jpeg',\n",
        "        'IMG049740_03.jpeg',\n",
        "        'IMG013506_03.jpeg',\n",
        "        'IMG001813_01.jpeg',\n",
        "        'IMG014431_04.jpeg',\n",
        "        'IMG026580_04.jpeg',\n",
        "        'IMG028975_04.jpeg',\n",
        "        'IMG079073_04.jpeg',\n",
        "        'IMG049077_02.jpeg',\n",
        "        'IMG033090_04.jpeg',\n",
        "        'IMG040904_04.jpeg',\n",
        "        'IMG065895_03.jpeg',\n",
        "        'IMG012382_01.jpeg',\n",
        "        'IMG028850_03.jpeg',\n",
        "        'IMG068507_01.jpeg',\n",
        "        'IMG078936_04.jpeg',\n",
        "        'IMG003145_04.jpeg',\n",
        "        'IMG056011_02.jpeg',\n",
        "        'IMG015516_01.jpeg',\n",
        "        'IMG077548_02.jpeg',\n",
        "        'IMG040693_01.jpeg',\n",
        "        'IMG015801_02.jpeg',\n",
        "        'IMG066898_02.jpeg',\n",
        "        'IMG039423_04.jpeg',\n",
        "        'IMG085263_03.jpeg',\n",
        "        'IMG068941_04.jpeg',\n",
        "        'IMG028542_03.jpeg',\n",
        "        'IMG016187_01.jpeg',\n",
        "        'IMG046760_02.jpeg',\n",
        "        'IMG083860_03.jpeg',\n",
        "        'IMG012974_03.jpeg',\n",
        "        'IMG094728_04.jpeg',\n",
        "        'IMG023535_01.jpeg',\n",
        "        'IMG046037_04.jpeg',\n",
        "        'IMG084306_02.jpeg',\n",
        "        'IMG008328_01.jpeg',\n",
        "        'IMG097630_04.jpeg',\n",
        "        'IMG046427_02.jpeg',\n",
        "        'IMG098467_03.jpeg',\n",
        "        'IMG078326_02.jpeg',\n",
        "        'IMG036626_03.jpeg',\n",
        "        'IMG060321_04.jpeg',\n",
        "        'IMG082753_01.jpeg',\n",
        "        'IMG066053_02.jpeg',\n",
        "        'IMG082360_04.jpeg',\n",
        "        'IMG082000_02.jpeg',\n",
        "        'IMG098735_04.jpeg',\n",
        "        'IMG028116_03.jpeg',\n",
        "        'IMG018454_03.jpeg',\n",
        "        'IMG053744_03.jpeg',\n",
        "        'IMG010996_04.jpeg',\n",
        "        'IMG062445_03.jpeg',\n",
        "        'IMG040778_03.jpeg',\n",
        "        'IMG034566_01.jpeg',\n",
        "        'IMG095526_04.jpeg',\n",
        "        'IMG010351_03.jpeg',\n",
        "        'IMG085847_04.jpeg',\n",
        "        'IMG013204_03.jpeg',\n",
        "        'IMG060903_03.jpeg',\n",
        "        'IMG043702_03.jpeg',\n",
        "        'IMG020717_01.jpeg',\n",
        "        'IMG026048_02.jpeg',\n",
        "        'IMG068022_03.jpeg']\n",
        "\n",
        "\n",
        "# 觀察上面檔名的規律，並宣告四個 list，設計程式將上述影像檔名，把他們的編號放置到四個對應的類別 list 中。\n",
        "\n",
        "# 做為參考，在執行完你的程式後，四個 list 會存入的東西分別為：\n",
        "# category1_id = ['024850', '001813', '012382', '068507' .... ]\n",
        "# category2_id = ['035833', '001572', '025945', '049077' .... ]\n",
        "# category3_id = ['069933', '086288', '049740', '013506' .... ]\n",
        "# category4_id = ['069932', '032322', '014431', '026580' .... ]"
      ],
      "execution_count": null,
      "outputs": []
    },
    {
      "cell_type": "code",
      "metadata": {
        "id": "mXUPkQQPW5oo",
        "cellView": "form"
      },
      "source": [
        "#@title Answer\n",
        "\n",
        "category1_id, category2_id, category3_id, category4_id = [], [], [], []\n",
        "\n",
        "for image_name in data:\n",
        "    label = image_name.split('.')[0].split('_')[-1]\n",
        "    img_id = image_name.split('.')[0].split('_')[0][3:]\n",
        "    #print(label, img_id, image_name)\n",
        "    \n",
        "    if label == '01':\n",
        "        category1_id.append(img_id)\n",
        "    elif label == '02':\n",
        "        category2_id.append(img_id)\n",
        "    elif label == '03':\n",
        "        category3_id.append(img_id)\n",
        "    elif label == '04':\n",
        "        category4_id.append(img_id)\n",
        "    else:\n",
        "        print('category not found!')\n",
        "        \n",
        "print('category1_id =', category1_id)\n",
        "print('category2_id =', category2_id)\n",
        "print('category3_id =', category3_id)\n",
        "print('category4_id =', category4_id)"
      ],
      "execution_count": null,
      "outputs": []
    },
    {
      "cell_type": "code",
      "metadata": {
        "id": "F7Txkeku--sW"
      },
      "source": [
        "# quiz3:\n",
        "\n",
        "# 請使用 list comprehension 建構出一個二維的 list，內容如下\n",
        "\n",
        "# [[10, 11, 12, 13, 14, 16, 17, 18, 19],\n",
        "#  [20, 21, 22, 23, 24, 26, 27, 28, 29],\n",
        "#  [30, 31, 32, 33, 34, 36, 37, 38, 39],\n",
        "#  [40, 41, 42, 43, 44, 46, 47, 48, 49],\n",
        "#  [60, 61, 62, 63, 64, 66, 67, 68, 69],\n",
        "#  [70, 71, 72, 73, 74, 76, 77, 78, 79],\n",
        "#  [80, 81, 82, 83, 84, 86, 87, 88, 89],\n",
        "#  [90, 91, 92, 93, 94, 96, 97, 98, 99]]"
      ],
      "execution_count": null,
      "outputs": []
    },
    {
      "cell_type": "code",
      "metadata": {
        "id": "up3aetFJYoOA",
        "cellView": "form"
      },
      "source": [
        "#@title Answer1\n",
        "# 一般for-loop搭配List append方式\n",
        "\n",
        "L=[]\n",
        "for i in range(1,10):\n",
        "    if i != 5:\n",
        "      L1=[]\n",
        "      for j in range(10):\n",
        "          if j != 5:\n",
        "            L1.append(i*10+j)\n",
        "      L.append(L1)\n",
        "print(L)        \n",
        "    "
      ],
      "execution_count": null,
      "outputs": []
    },
    {
      "cell_type": "code",
      "metadata": {
        "id": "HPY1GTsmYqoA",
        "cellView": "form"
      },
      "source": [
        "#@title Answer2\n",
        "# 使用生成式\n",
        "\n",
        "L = [[i*10+j for j in range(10) if j != 5] for i in range(1,10) if i !=5]\n",
        "print(L)"
      ],
      "execution_count": null,
      "outputs": []
    }
  ]
}