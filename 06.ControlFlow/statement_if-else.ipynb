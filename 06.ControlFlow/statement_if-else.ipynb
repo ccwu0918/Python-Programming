{
  "nbformat": 4,
  "nbformat_minor": 0,
  "metadata": {
    "colab": {
      "name": "statement_if-else.ipynb",
      "provenance": [],
      "include_colab_link": true
    },
    "kernelspec": {
      "name": "python3",
      "display_name": "Python 3"
    }
  },
  "cells": [
    {
      "cell_type": "markdown",
      "metadata": {
        "id": "view-in-github",
        "colab_type": "text"
      },
      "source": [
        "<a href=\"https://colab.research.google.com/github/ccwu0918/Python-Programming/blob/master/06.ControlFlow/statement_if-else.ipynb\" target=\"_parent\"><img src=\"https://colab.research.google.com/assets/colab-badge.svg\" alt=\"Open In Colab\"/></a>"
      ]
    },
    {
      "cell_type": "code",
      "metadata": {
        "id": "MnRZy-6FFRTq",
        "colab": {
          "base_uri": "https://localhost:8080/",
          "height": 579
        },
        "outputId": "754cd973-f98c-4b22-c92d-2cdf3a931ab8"
      },
      "source": [
        "from IPython.display import HTML\n",
        "HTML(\"\"\"\n",
        "    <div style=\"display: flex; justify-content: center;\">\n",
        "        <video width=1000 controls>\n",
        "              <source src=\"https://drive.google.com/uc?id=1kdUAxekOXPFhWr7fMjgk-pmt3baH9wbB\" type=\"video/mp4\">\n",
        "        </video>\n",
        "    </div>\n",
        "\"\"\" )"
      ],
      "execution_count": null,
      "outputs": [
        {
          "output_type": "execute_result",
          "data": {
            "text/html": [
              "\n",
              "    <div style=\"display: flex; justify-content: center;\">\n",
              "        <video width=1000 controls>\n",
              "              <source src=\"https://drive.google.com/uc?id=1kdUAxekOXPFhWr7fMjgk-pmt3baH9wbB\" type=\"video/mp4\">\n",
              "        </video>\n",
              "    </div>\n"
            ],
            "text/plain": [
              "<IPython.core.display.HTML object>"
            ]
          },
          "metadata": {
            "tags": []
          },
          "execution_count": 1
        }
      ]
    },
    {
      "cell_type": "markdown",
      "metadata": {
        "id": "nXs6LqVZ--qX"
      },
      "source": [
        "## 敘述"
      ]
    },
    {
      "cell_type": "code",
      "metadata": {
        "id": "1UuZBsXR--qY"
      },
      "source": [
        "#A = 5\n",
        "\n",
        "statement1 = A > 0\n",
        "\n",
        "print(statement1)\n",
        "\n",
        "statement2 = A > 0 and A < 100\n",
        "\n",
        "print(statement2)\n",
        "\n",
        "statement3 = type(A) is float\n",
        "\n",
        "print(statement3)"
      ],
      "execution_count": null,
      "outputs": []
    },
    {
      "cell_type": "code",
      "metadata": {
        "id": "fHltwgfy--qd"
      },
      "source": [
        "D = [1, 2, 3, None, 5]\n",
        "\n",
        "statement1 = 1 in D\n",
        "\n",
        "print(statement1)\n",
        "\n",
        "statement2 = 4 in D\n",
        "\n",
        "print(statement2)\n",
        "\n",
        "statement3 = 4 not in D\n",
        "\n",
        "print(statement3)\n",
        "\n",
        "statement4 = D[3] is not None\n",
        "\n",
        "print(statement4)"
      ],
      "execution_count": null,
      "outputs": []
    },
    {
      "cell_type": "markdown",
      "metadata": {
        "id": "BjhddFBT--qg"
      },
      "source": [
        "## if-else"
      ]
    },
    {
      "cell_type": "code",
      "metadata": {
        "id": "sMtAhWQU--qh",
        "outputId": "4d0ce332-5260-45b3-a660-15ad5883db3f"
      },
      "source": [
        "''' if-else 的使用格式：\n",
        "if statement1 :\n",
        "    (do something)\n",
        "elif statement2 :\n",
        "    (do something)\n",
        "else:\n",
        "    (do something)\n",
        "\n",
        "如果你曾經寫過像是 C 等其他語言，注意 python 的 statement 不需要在外面加括號，但是在敘述後要加上冒號 (:)。\n",
        "至於在該 statement 內的程式碼都必須縮排 (可以使用 tab)。\n",
        "'''\n",
        "\n",
        "n = int(input(f'Please enter an integer: '))\n",
        "\n",
        "if n > 0:\n",
        "    print(f'It is a positive number.')\n",
        "elif n < 0:\n",
        "    print(f'It is a negative number.')\n",
        "else:\n",
        "    print(f'It is zero')"
      ],
      "execution_count": null,
      "outputs": [
        {
          "output_type": "stream",
          "text": [
            "Please enter an integer: 3\n",
            "It is a positive number.\n"
          ],
          "name": "stdout"
        }
      ]
    },
    {
      "cell_type": "code",
      "metadata": {
        "id": "ayNfUlCr--qn",
        "outputId": "17dfa77d-09dd-4636-81df-1e3162d5555d"
      },
      "source": [
        "h = float(input(f'Please enter your height(cm): '))\n",
        "w = float(input(f'Please enter your weight(kg): '))\n",
        "\n",
        "BMI = w / ((h / 100)**2)\n",
        "\n",
        "# elif 可以有很多個，但是最開始必須為 if，而 else 不一定為必要\n",
        "\n",
        "if BMI > 35:\n",
        "    print(f'Your BMI is {BMI:.1f}, you are extremely fat!')\n",
        "elif BMI > 30 and BMI <= 35:\n",
        "    print(f'Your BMI is {BMI:.1f}, you are fat!')\n",
        "elif BMI > 27 and BMI <= 30:\n",
        "    print(f'Your BMI is {BMI:.1f}, you are slightly fat!')\n",
        "elif BMI > 24 and BMI <= 27:\n",
        "    print(f'Your BMI is {BMI:.1f}, you are overweight!')\n",
        "elif BMI > 18.5 and BMI <= 24:\n",
        "    print(f'Your BMI is {BMI:.1f}, you have a normal weight.')\n",
        "else:\n",
        "    print(f'Your BMI is {BMI:.1f}, you are too light!')"
      ],
      "execution_count": null,
      "outputs": [
        {
          "output_type": "stream",
          "text": [
            "Please enter your height(cm):  180\n",
            "Please enter your weight(kg):  70\n"
          ],
          "name": "stdin"
        },
        {
          "output_type": "stream",
          "text": [
            "Your BMI is 21.6, you have a normal weight.\n"
          ],
          "name": "stdout"
        }
      ]
    }
  ]
}