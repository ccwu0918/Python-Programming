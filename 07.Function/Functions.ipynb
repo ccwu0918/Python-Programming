{
  "nbformat": 4,
  "nbformat_minor": 0,
  "metadata": {
    "kernelspec": {
      "display_name": "Python 3",
      "language": "python",
      "name": "python3"
    },
    "language_info": {
      "codemirror_mode": {
        "name": "ipython",
        "version": 3
      },
      "file_extension": ".py",
      "mimetype": "text/x-python",
      "name": "python",
      "nbconvert_exporter": "python",
      "pygments_lexer": "ipython3",
      "version": "3.7.3"
    },
    "colab": {
      "name": "Functions",
      "provenance": [],
      "include_colab_link": true
    }
  },
  "cells": [
    {
      "cell_type": "markdown",
      "metadata": {
        "id": "view-in-github",
        "colab_type": "text"
      },
      "source": [
        "<a href=\"https://colab.research.google.com/github/ccwu0918/Python-Programming/blob/master/07.Function/Functions.ipynb\" target=\"_parent\"><img src=\"https://colab.research.google.com/assets/colab-badge.svg\" alt=\"Open In Colab\"/></a>"
      ]
    },
    {
      "cell_type": "code",
      "metadata": {
        "id": "A8arvfDbZ_-1",
        "colab": {
          "base_uri": "https://localhost:8080/",
          "height": 579
        },
        "outputId": "16052d13-d2df-452b-bf51-a778dfe6a49e"
      },
      "source": [
        "from IPython.display import HTML\n",
        "HTML(\"\"\"\n",
        "    <div style=\"display: flex; justify-content: center;\">\n",
        "        <video width=1000 controls>\n",
        "              <source src=\"https://drive.google.com/uc?id=1-nYeeoS7c4LxIHE1qFvaLFmccvfMTWnx\" type=\"video/mp4\">\n",
        "        </video>\n",
        "    </div>\n",
        "\"\"\" )"
      ],
      "execution_count": null,
      "outputs": [
        {
          "output_type": "execute_result",
          "data": {
            "text/html": [
              "\n",
              "    <div style=\"display: flex; justify-content: center;\">\n",
              "        <video width=1000 controls>\n",
              "              <source src=\"https://drive.google.com/uc?id=1-nYeeoS7c4LxIHE1qFvaLFmccvfMTWnx\" type=\"video/mp4\">\n",
              "        </video>\n",
              "    </div>\n"
            ],
            "text/plain": [
              "<IPython.core.display.HTML object>"
            ]
          },
          "metadata": {
            "tags": []
          },
          "execution_count": 1
        }
      ]
    },
    {
      "cell_type": "markdown",
      "metadata": {
        "id": "VUSiTDYAnyH2"
      },
      "source": [
        "# 函式 - Functions"
      ]
    },
    {
      "cell_type": "markdown",
      "metadata": {
        "id": "4dt4-hlYnyH6"
      },
      "source": [
        "本章節內容大綱\n",
        "* [函式 Function](#函式-Function)\n",
        "* [匿名函式 Lambda Function](#匿名函式-Lambda-Function)"
      ]
    },
    {
      "cell_type": "markdown",
      "metadata": {
        "id": "mUVaDaNPnyH9"
      },
      "source": [
        "## 函式 Function"
      ]
    },
    {
      "cell_type": "code",
      "metadata": {
        "id": "_Iav4JghnyH-"
      },
      "source": [
        "'''\n",
        "    \n",
        "    def function_name(parameters):\n",
        "        'function docstring'\n",
        "        do something\n",
        "        return something\n",
        "\n",
        "'''"
      ],
      "execution_count": null,
      "outputs": []
    },
    {
      "cell_type": "code",
      "metadata": {
        "id": "FeugUSApnyIK"
      },
      "source": [
        "# 什麼事都沒有做的 function\n",
        "def do_nothing():\n",
        "    pass"
      ],
      "execution_count": null,
      "outputs": []
    },
    {
      "cell_type": "code",
      "metadata": {
        "id": "gSg3sMH2nyIV"
      },
      "source": [
        "do_nothing()"
      ],
      "execution_count": null,
      "outputs": []
    },
    {
      "cell_type": "code",
      "metadata": {
        "id": "rVJlGHSUnyIe"
      },
      "source": [
        "# 沒有參數/回傳值的，純粹執行一些事情的 function\n",
        "def say_hello():\n",
        "    print('hello!')"
      ],
      "execution_count": null,
      "outputs": []
    },
    {
      "cell_type": "code",
      "metadata": {
        "id": "3rQTOaGgnyIq"
      },
      "source": [
        "say_hello()"
      ],
      "execution_count": null,
      "outputs": []
    },
    {
      "cell_type": "code",
      "metadata": {
        "id": "gwmT-713nyI2"
      },
      "source": [
        "# 沒有參數，但有回傳值的 function\n",
        "def three():\n",
        "    return 3"
      ],
      "execution_count": null,
      "outputs": []
    },
    {
      "cell_type": "code",
      "metadata": {
        "id": "5JbfCdRYnyJD"
      },
      "source": [
        "print(three())"
      ],
      "execution_count": null,
      "outputs": []
    },
    {
      "cell_type": "code",
      "metadata": {
        "id": "Ct0itQpjnyJO"
      },
      "source": [
        "# 有參數/回傳值的 function\n",
        "def add(a, b):\n",
        "    '''\n",
        "    This function adds up two parameters and then return.  \n",
        "    '''\n",
        "    #print(f'a = {a}, b = {b}')\n",
        "    return a + b"
      ],
      "execution_count": null,
      "outputs": []
    },
    {
      "cell_type": "code",
      "metadata": {
        "id": "ifDQcxfWnyJa"
      },
      "source": [
        "print(add(3, 7))"
      ],
      "execution_count": null,
      "outputs": []
    },
    {
      "cell_type": "code",
      "metadata": {
        "id": "wMD0bi4bnyJh",
        "outputId": "d4664942-2316-4ec4-cc10-8fe5cc8c1102"
      },
      "source": [
        "def find_prime(x):\n",
        "    \n",
        "    prime = [True] * (x + 1)\n",
        "    prime[0] = False\n",
        "    prime[1] = False\n",
        "    \n",
        "    i = 2\n",
        "    while i < x:\n",
        "        \n",
        "        while i < x and prime[i] == False:\n",
        "            i += 1\n",
        "            \n",
        "        for value in range(2*i, x + 1, i):\n",
        "            prime[value] = False\n",
        "            \n",
        "        i += 1\n",
        "        \n",
        "    return [index for index, value in enumerate(prime) if value == True]"
      ],
      "execution_count": null,
      "outputs": [
        {
          "output_type": "stream",
          "text": [
            "[2, 3, 5, 7, 11, 13, 17, 19, 23, 29, 31, 37, 41, 43, 47, 53, 59, 61, 67, 71, 73, 79, 83, 89, 97]\n"
          ],
          "name": "stdout"
        }
      ]
    },
    {
      "cell_type": "markdown",
      "metadata": {
        "id": "zlsu2YNFnyJs"
      },
      "source": [
        "## 匿名函式 Lambda Function"
      ]
    },
    {
      "cell_type": "code",
      "metadata": {
        "id": "Mi6H5hxsnyJt"
      },
      "source": [
        "'''\n",
        "function_name = lambda input : calculation or output\n",
        "'''\n",
        "\n",
        "f = lambda x : x ** 2"
      ],
      "execution_count": null,
      "outputs": []
    },
    {
      "cell_type": "code",
      "metadata": {
        "id": "OyKESOuonyJ2"
      },
      "source": [
        "print(f())"
      ],
      "execution_count": null,
      "outputs": []
    },
    {
      "cell_type": "code",
      "metadata": {
        "id": "p0dGm99znyKI"
      },
      "source": [
        "f = lambda x, y: x**2 + 2*x*y + y**2"
      ],
      "execution_count": null,
      "outputs": []
    },
    {
      "cell_type": "code",
      "metadata": {
        "id": "9uQWvkqHnyKP"
      },
      "source": [
        "print(f(,))"
      ],
      "execution_count": null,
      "outputs": []
    },
    {
      "cell_type": "code",
      "metadata": {
        "id": "DxcH2tiDnyKa"
      },
      "source": [
        "f = lambda x : [i*i for i in range(0, x+1)]"
      ],
      "execution_count": null,
      "outputs": []
    },
    {
      "cell_type": "code",
      "metadata": {
        "id": "SCc1EsxOnyKi"
      },
      "source": [
        "print(f())"
      ],
      "execution_count": null,
      "outputs": []
    },
    {
      "cell_type": "code",
      "metadata": {
        "id": "IdTDaxXrnyKp"
      },
      "source": [
        "f = lambda s : s.upper() + '!'"
      ],
      "execution_count": null,
      "outputs": []
    },
    {
      "cell_type": "code",
      "metadata": {
        "id": "GDUwKPaDnyKy"
      },
      "source": [
        "print(f(''))"
      ],
      "execution_count": null,
      "outputs": []
    },
    {
      "cell_type": "markdown",
      "metadata": {
        "id": "ciWiKu4Z3lqh"
      },
      "source": [
        "------"
      ]
    },
    {
      "cell_type": "code",
      "metadata": {
        "id": "7L6A1tcW3khm"
      },
      "source": [
        "# quiz1: 實作一個 lambda function，把輸入(數字）平方之後加上 5 回傳。"
      ],
      "execution_count": null,
      "outputs": []
    },
    {
      "cell_type": "code",
      "metadata": {
        "id": "Avk9o2kU3pge",
        "cellView": "form"
      },
      "source": [
        "#@title Answer\n",
        "\n",
        "f_quiz1 = lambda x : x**2 + 5\n",
        "print(f_quiz1(9))"
      ],
      "execution_count": null,
      "outputs": []
    },
    {
      "cell_type": "code",
      "metadata": {
        "id": "O4VkuC_b31rp"
      },
      "source": [
        "# quiz2: 實作一個 function，輸入寬 (w) 及長 (l) 後印出如附圖所示的鉛筆形狀。\n",
        "\n",
        "# |******\n",
        "# |*******\n",
        "# w********\n",
        "# |*******\n",
        "# |******\n",
        "#  --l--\n",
        "\n",
        "# e.g. \n",
        "# pencil(5, 7) 會印出\n",
        "# *******\n",
        "# ********\n",
        "# *********\n",
        "# ********\n",
        "# *******\n",
        "\n",
        "def pencil(w, l):\n",
        "    pass"
      ],
      "execution_count": null,
      "outputs": []
    },
    {
      "cell_type": "code",
      "metadata": {
        "id": "qcIb9UAS3-YG",
        "cellView": "form"
      },
      "source": [
        "#@title Answer\n",
        "\n",
        "def pencil(w, l):\n",
        "    for w_i in range(int(w/2)):\n",
        "        print('*'*(w_i+l))\n",
        "        \n",
        "    if w%2 == 0:\n",
        "        w_j_end = 0\n",
        "    else:\n",
        "        w_j_end = -1\n",
        "\n",
        "    for w_j in range(int(w/2), w_j_end, -1):\n",
        "        print('*'*(w_j+l))\n",
        "\n",
        "pencil(5,7)"
      ],
      "execution_count": null,
      "outputs": []
    },
    {
      "cell_type": "code",
      "metadata": {
        "id": "_kG5RUab4bQa"
      },
      "source": [],
      "execution_count": null,
      "outputs": []
    }
  ]
}