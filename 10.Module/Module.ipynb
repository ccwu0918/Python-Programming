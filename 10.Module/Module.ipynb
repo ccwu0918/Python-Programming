{
  "nbformat": 4,
  "nbformat_minor": 0,
  "metadata": {
    "kernelspec": {
      "display_name": "Python 3",
      "language": "python",
      "name": "python3"
    },
    "language_info": {
      "codemirror_mode": {
        "name": "ipython",
        "version": 3
      },
      "file_extension": ".py",
      "mimetype": "text/x-python",
      "name": "python",
      "nbconvert_exporter": "python",
      "pygments_lexer": "ipython3",
      "version": "3.7.3"
    },
    "colab": {
      "name": "Module",
      "provenance": [],
      "include_colab_link": true
    }
  },
  "cells": [
    {
      "cell_type": "markdown",
      "metadata": {
        "id": "view-in-github",
        "colab_type": "text"
      },
      "source": [
        "<a href=\"https://colab.research.google.com/github/ccwu0918/Python-Programming/blob/master/10.Module/Module.ipynb\" target=\"_parent\"><img src=\"https://colab.research.google.com/assets/colab-badge.svg\" alt=\"Open In Colab\"/></a>"
      ]
    },
    {
      "cell_type": "code",
      "metadata": {
        "id": "lO6kt9u3FTZx",
        "colab": {
          "base_uri": "https://localhost:8080/",
          "height": 579
        },
        "outputId": "378b1ec0-ad0b-4a09-cec6-e937a283b214"
      },
      "source": [
        "from IPython.display import HTML\n",
        "HTML(\"\"\"\n",
        "    <div style=\"display: flex; justify-content: center;\">\n",
        "        <video width=1000 controls>\n",
        "              <source src=\"https://drive.google.com/uc?id=1xtYr0WWo-MGGcwBHWyOD3GVr1-laeg5c\" type=\"video/mp4\">\n",
        "        </video>\n",
        "    </div>\n",
        "\"\"\" )"
      ],
      "execution_count": null,
      "outputs": [
        {
          "output_type": "execute_result",
          "data": {
            "text/html": [
              "\n",
              "    <div style=\"display: flex; justify-content: center;\">\n",
              "        <video width=1000 controls>\n",
              "              <source src=\"https://drive.google.com/uc?id=1xtYr0WWo-MGGcwBHWyOD3GVr1-laeg5c\" type=\"video/mp4\">\n",
              "        </video>\n",
              "    </div>\n"
            ],
            "text/plain": [
              "<IPython.core.display.HTML object>"
            ]
          },
          "metadata": {
            "tags": []
          },
          "execution_count": 1
        }
      ]
    },
    {
      "cell_type": "markdown",
      "metadata": {
        "id": "BCORMDnM9hVS"
      },
      "source": [
        "# 模組 Modules"
      ]
    },
    {
      "cell_type": "markdown",
      "metadata": {
        "id": "w0ZngXxg9hW4"
      },
      "source": [
        "- 定義：有些好用，或是常用到的函式，將他們包成一份檔案，即為module，下次需要時直接拿來使用，不需再重寫\n",
        "- package：多份功能相近的module可包成一份package\n",
        "- python提供了各式各樣強大的module及package，非常方便"
      ]
    },
    {
      "cell_type": "code",
      "metadata": {
        "id": "8zrDUNhp9hXC"
      },
      "source": [
        "'''\n",
        "import module_name\n",
        "import module_name as short_name\n",
        "\n",
        "module_name.module_function()\n",
        "module_name.module_variable\n",
        "\n",
        "short_name.module_function()\n",
        "short_name.module_variable\n",
        "'''\n",
        "\n",
        "'''\n",
        "from module_name import module_function\n",
        "from module_name import module_variable\n",
        "\n",
        "module_function()\n",
        "module_variable\n",
        "'''"
      ],
      "execution_count": null,
      "outputs": []
    },
    {
      "cell_type": "code",
      "metadata": {
        "id": "iBzkiiwU9hXM"
      },
      "source": [
        "import re\n",
        "\n",
        "import re as r\n",
        "\n",
        "from re import findall\n",
        "\n",
        "from re import *"
      ],
      "execution_count": null,
      "outputs": []
    },
    {
      "cell_type": "code",
      "metadata": {
        "id": "KL0g_h0U9hXZ"
      },
      "source": [
        "import random as rd\n",
        "\n",
        "L = [i for i in range(1, 11)]\n",
        "rd.shuffle(L)\n",
        "print(L)"
      ],
      "execution_count": null,
      "outputs": []
    },
    {
      "cell_type": "code",
      "metadata": {
        "id": "A8rIx6DN9hXd"
      },
      "source": [
        "import math\n",
        "\n",
        "print(math.pi)\n",
        "print(math.sqrt(81))"
      ],
      "execution_count": null,
      "outputs": []
    },
    {
      "cell_type": "markdown",
      "metadata": {
        "id": "qf3w_exj9hXl"
      },
      "source": [
        "## OS\n",
        "\n",
        "內含許多可以用來處理檔案路徑及目錄的好用函式"
      ]
    },
    {
      "cell_type": "code",
      "metadata": {
        "id": "dRpQlIRA9hXm"
      },
      "source": [
        "import os"
      ],
      "execution_count": null,
      "outputs": []
    },
    {
      "cell_type": "code",
      "metadata": {
        "id": "7VfV5BU-9hXp"
      },
      "source": [
        "# 顯示絕對路徑\n",
        "\n",
        "print(os.path.abspath(\"Module.ipynb\"))"
      ],
      "execution_count": null,
      "outputs": []
    },
    {
      "cell_type": "code",
      "metadata": {
        "id": "Cz932mGX9hXt"
      },
      "source": [
        "# 將多個字串組合為路徑\n",
        "\n",
        "print('/'.join(['path', 'result', 'a.jpg']))\n",
        "print(os.path.join('path', 'result', 'a.jpg'))"
      ],
      "execution_count": null,
      "outputs": []
    },
    {
      "cell_type": "code",
      "metadata": {
        "id": "QbLjWVcN9hX3"
      },
      "source": [
        "# 檢查某路徑/資料夾是否存在\n",
        "\n",
        "print(os.path.exists(\"/home/jovyan/work/python_programming/v2-0-python-programming/Module.ipynb\"))\n",
        "print(os.path.exists(\"./../v2-0-python-programming/Module.ipynb\"))"
      ],
      "execution_count": null,
      "outputs": []
    },
    {
      "cell_type": "code",
      "metadata": {
        "id": "MeAH6NaC9hX6"
      },
      "source": [
        "# 顯示當下所在路徑\n",
        "print(os.getcwd())\n",
        "\n",
        "current_file = 'Module_v2.ipynb'\n",
        "file_path = os.path.join(os.getcwd(), current_file)\n",
        "print(file_path)"
      ],
      "execution_count": null,
      "outputs": []
    },
    {
      "cell_type": "code",
      "metadata": {
        "id": "fxorpHaX9hYD"
      },
      "source": [],
      "execution_count": null,
      "outputs": []
    }
  ]
}