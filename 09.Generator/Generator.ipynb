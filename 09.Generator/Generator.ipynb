{
  "nbformat": 4,
  "nbformat_minor": 0,
  "metadata": {
    "kernelspec": {
      "display_name": "Python 3",
      "language": "python",
      "name": "python3"
    },
    "language_info": {
      "codemirror_mode": {
        "name": "ipython",
        "version": 3
      },
      "file_extension": ".py",
      "mimetype": "text/x-python",
      "name": "python",
      "nbconvert_exporter": "python",
      "pygments_lexer": "ipython3",
      "version": "3.7.3"
    },
    "colab": {
      "name": "Generator",
      "provenance": [],
      "include_colab_link": true
    }
  },
  "cells": [
    {
      "cell_type": "markdown",
      "metadata": {
        "id": "view-in-github",
        "colab_type": "text"
      },
      "source": [
        "<a href=\"https://colab.research.google.com/github/ccwu0918/Python-Programming/blob/master/09.Generator/Generator.ipynb\" target=\"_parent\"><img src=\"https://colab.research.google.com/assets/colab-badge.svg\" alt=\"Open In Colab\"/></a>"
      ]
    },
    {
      "cell_type": "code",
      "metadata": {
        "id": "IG-j_P2gEHyf",
        "colab": {
          "base_uri": "https://localhost:8080/",
          "height": 579
        },
        "outputId": "ac6b5b73-bff1-40e0-f749-acf92af158cd"
      },
      "source": [
        "from IPython.display import HTML\n",
        "HTML(\"\"\"\n",
        "    <div style=\"display: flex; justify-content: center;\">\n",
        "        <video width=1000 controls>\n",
        "              <source src=\"https://drive.google.com/uc?id=1Dq9ai3p69nynUvR4cOrNnGDbprWmdRrl\" type=\"video/mp4\">\n",
        "        </video>\n",
        "    </div>\n",
        "\"\"\" )"
      ],
      "execution_count": null,
      "outputs": [
        {
          "output_type": "execute_result",
          "data": {
            "text/html": [
              "\n",
              "    <div style=\"display: flex; justify-content: center;\">\n",
              "        <video width=1000 controls>\n",
              "              <source src=\"https://drive.google.com/uc?id=1Dq9ai3p69nynUvR4cOrNnGDbprWmdRrl\" type=\"video/mp4\">\n",
              "        </video>\n",
              "    </div>\n"
            ],
            "text/plain": [
              "<IPython.core.display.HTML object>"
            ]
          },
          "metadata": {
            "tags": []
          },
          "execution_count": 1
        }
      ]
    },
    {
      "cell_type": "markdown",
      "metadata": {
        "id": "TnkAnUSprLbx"
      },
      "source": [
        " # Generator"
      ]
    },
    {
      "cell_type": "markdown",
      "metadata": {
        "id": "GpxPT5G0rLb0"
      },
      "source": [
        "本章節內容大綱\n",
        "* [產生器 Generator](#Generator)\n",
        "* [星號 args & kwargs](#星號)"
      ]
    },
    {
      "cell_type": "markdown",
      "metadata": {
        "id": "jfzN784yrLb3"
      },
      "source": [
        "## Generator\n",
        "\n",
        "用yield來取代return的function，是function的一種變形"
      ]
    },
    {
      "cell_type": "code",
      "metadata": {
        "id": "K1SOQDhmrLb5"
      },
      "source": [
        "def simpleFunction():\n",
        "    return 1 # return完，記憶會清空，下次呼叫此函式時會從頭跑\n",
        "    return 2 # 所以這行永遠不會執行到"
      ],
      "execution_count": null,
      "outputs": []
    },
    {
      "cell_type": "code",
      "metadata": {
        "id": "oykM-Q1urLb9"
      },
      "source": [
        "print(simpleFunction())\n",
        "print(simpleFunction())"
      ],
      "execution_count": null,
      "outputs": []
    },
    {
      "cell_type": "code",
      "metadata": {
        "id": "qdwQFtohrLcB"
      },
      "source": [
        "def simpleGenerator():\n",
        "    yield 1 # yield完，記憶不會清空，下次呼叫此函式時會從下一行開始跑\n",
        "    yield 2 # 第二次進入此函式時就會從這裡開始"
      ],
      "execution_count": null,
      "outputs": []
    },
    {
      "cell_type": "code",
      "metadata": {
        "id": "_jojGj1hrLcG"
      },
      "source": [
        "print(simpleGenerator())"
      ],
      "execution_count": null,
      "outputs": []
    },
    {
      "cell_type": "code",
      "metadata": {
        "id": "0DwkhjkJrLcM"
      },
      "source": [
        "g1 = simpleGenerator()\n",
        "\n",
        "print(next(g1))\n",
        "print(next(g1))"
      ],
      "execution_count": null,
      "outputs": []
    },
    {
      "cell_type": "code",
      "metadata": {
        "id": "458n4bdmrLcP"
      },
      "source": [
        "import random\n",
        "\n",
        "def randomGenerator(N):\n",
        "    \n",
        "    while True:\n",
        "        L = [i for i in range(1, N+1)]  # [i+1 for i in range(N)]\n",
        "        random.shuffle(L)  # L：1~N 亂序排序之List\n",
        "\n",
        "        for v in L:\n",
        "            yield v\n"
      ],
      "execution_count": null,
      "outputs": []
    },
    {
      "cell_type": "code",
      "metadata": {
        "id": "UmTK5XdBrLcT"
      },
      "source": [
        "R = randomGenerator(5)\n",
        "\n",
        "for i in range(15):\n",
        "    print(next(R))"
      ],
      "execution_count": null,
      "outputs": []
    },
    {
      "cell_type": "code",
      "metadata": {
        "id": "bzwBCoqFrLce"
      },
      "source": [
        "print(next(R))"
      ],
      "execution_count": null,
      "outputs": []
    },
    {
      "cell_type": "code",
      "metadata": {
        "id": "w2LpOVoTrLcg"
      },
      "source": [
        "def myRange(start=0, end=0, step=1):\n",
        "    current = start\n",
        "    while current < end:\n",
        "        yield current\n",
        "        current += step  # current = current + step (把step累加進current的意思)"
      ],
      "execution_count": null,
      "outputs": []
    },
    {
      "cell_type": "code",
      "metadata": {
        "id": "w_p_F2UHrLcj"
      },
      "source": [
        "R = myRange(0, 10, 2)\n",
        "for value in R:\n",
        "    print(value)"
      ],
      "execution_count": null,
      "outputs": []
    },
    {
      "cell_type": "markdown",
      "metadata": {
        "id": "jgEOpYPlAP_5"
      },
      "source": [
        "-----"
      ]
    },
    {
      "cell_type": "code",
      "metadata": {
        "id": "nj-_RaLmARz2"
      },
      "source": [
        "# quiz1: 建構一個 費式數列 的 generator\n",
        "\n",
        "# 使用 next() 的時候\n",
        "# 第一次 yield 1\n",
        "# 第二次 yield 1\n",
        "# 第三次 yield 2\n",
        "# 第四次 yield 3\n",
        "# 第五次 yield 5\n",
        "# ... 以此類推\n",
        "\n",
        "def fib_generator():\n",
        "    # your code here"
      ],
      "execution_count": null,
      "outputs": []
    },
    {
      "cell_type": "code",
      "metadata": {
        "id": "Gn57wdZOAWBq",
        "cellView": "form"
      },
      "source": [
        "#@title Answer\n",
        "\n",
        "def fib_generator(n):\n",
        "\n",
        "    L_fib = [1, 1]\n",
        "    \n",
        "    for i in range(n-2):\n",
        "        L_fib.append(L_fib[i]+L_fib[i+1])\n",
        "\n",
        "    for v in L_fib:\n",
        "        yield v\n",
        "\n",
        "\n",
        "# 可以使用此段程式驗證你的 generator 有沒有成功\n",
        "\n",
        "N=10\n",
        "\n",
        "f = fib_generator(N)\n",
        "for i in range(N):\n",
        "    print(next(f))"
      ],
      "execution_count": null,
      "outputs": []
    },
    {
      "cell_type": "markdown",
      "metadata": {
        "id": "21_DzSCHBy38"
      },
      "source": [
        "---"
      ]
    },
    {
      "cell_type": "code",
      "metadata": {
        "id": "1du6a0kBE2ST",
        "colab": {
          "base_uri": "https://localhost:8080/",
          "height": 579
        },
        "outputId": "0e393066-9ea5-4d20-ac9f-84999fadcc5a"
      },
      "source": [
        "from IPython.display import HTML\n",
        "HTML(\"\"\"\n",
        "    <div style=\"display: flex; justify-content: center;\">\n",
        "        <video width=1000 controls>\n",
        "              <source src=\"https://drive.google.com/uc?id=10wxz8_UY-Vz2eSL63mn9Is051WKzMAOL\" type=\"video/mp4\">\n",
        "        </video>\n",
        "    </div>\n",
        "\"\"\" )"
      ],
      "execution_count": null,
      "outputs": [
        {
          "output_type": "execute_result",
          "data": {
            "text/html": [
              "\n",
              "    <div style=\"display: flex; justify-content: center;\">\n",
              "        <video width=1000 controls>\n",
              "              <source src=\"https://drive.google.com/uc?id=10wxz8_UY-Vz2eSL63mn9Is051WKzMAOL\" type=\"video/mp4\">\n",
              "        </video>\n",
              "    </div>\n"
            ],
            "text/plain": [
              "<IPython.core.display.HTML object>"
            ]
          },
          "metadata": {
            "tags": []
          },
          "execution_count": 2
        }
      ]
    },
    {
      "cell_type": "markdown",
      "metadata": {
        "id": "p26p_v00rLcn"
      },
      "source": [
        "## 星號 \n",
        "\n",
        "- args & kwargs    \n",
        "- 適用情況：當function的輸入參數 **數量不固定** 的時候，用來取代固定格式的工具\n",
        "- range(10), range(1,10), range(1,10, 2)"
      ]
    },
    {
      "cell_type": "code",
      "metadata": {
        "id": "VAHtT9fWrLcp"
      },
      "source": [
        "def argsTest(*args):\n",
        "    print(f'Parameter count: {len(args)}')\n",
        "    print(args)"
      ],
      "execution_count": null,
      "outputs": []
    },
    {
      "cell_type": "code",
      "metadata": {
        "id": "Nm-0dqYYrLcu"
      },
      "source": [
        "argsTest(1,3,5,7,9,11)"
      ],
      "execution_count": null,
      "outputs": []
    },
    {
      "cell_type": "code",
      "metadata": {
        "id": "7B5keUUbrLcx"
      },
      "source": [
        "def kwargsTest(*args, **kwargs):\n",
        "    print(f'Parameter count: {len(args)}')\n",
        "    print(args) \n",
        "    print(f'Named paramater count: {len(kwargs)}')\n",
        "    print(kwargs) "
      ],
      "execution_count": null,
      "outputs": []
    },
    {
      "cell_type": "code",
      "metadata": {
        "id": "7xJUFqQmrLc0",
        "colab": {
          "base_uri": "https://localhost:8080/",
          "height": 85
        },
        "outputId": "414d4c95-06fd-4fcc-d4fb-6a3925cacb13"
      },
      "source": [
        "kwargsTest(1,2,3,4,5, a=1, b=2, c=3)"
      ],
      "execution_count": null,
      "outputs": [
        {
          "output_type": "stream",
          "text": [
            "Parameter count: 5\n",
            "(1, 2, 3, 4, 5)\n",
            "Named paramater count: 3\n",
            "{'a': 1, 'b': 2, 'c': 3}\n"
          ],
          "name": "stdout"
        }
      ]
    },
    {
      "cell_type": "code",
      "metadata": {
        "id": "moKc_9dSrLc4"
      },
      "source": [
        "def myRange(*args):\n",
        "    \n",
        "    start, end, step = 0, 0, 1\n",
        "    \n",
        "    if len(args) == 1:\n",
        "        end = args[0]\n",
        "        \n",
        "    elif len(args) == 2:\n",
        "        start, end = args[0], args[1]\n",
        "        \n",
        "    elif len(args) == 3:\n",
        "        start, end, step = args[0], args[1], args[2]\n",
        "    \n",
        "    current = start\n",
        "    #while step > 0 and current < end or step < 0 and current > end:\n",
        "    while current < end:\n",
        "        yield current\n",
        "        current += step"
      ],
      "execution_count": null,
      "outputs": []
    },
    {
      "cell_type": "code",
      "metadata": {
        "id": "3Cebyp-vrLdB"
      },
      "source": [
        "for value in myRange(10):\n",
        "    print(value)"
      ],
      "execution_count": null,
      "outputs": []
    },
    {
      "cell_type": "code",
      "metadata": {
        "id": "ITHxjbpgrLdF"
      },
      "source": [
        "for value in myRange(2,18):\n",
        "    print(value)"
      ],
      "execution_count": null,
      "outputs": []
    },
    {
      "cell_type": "code",
      "metadata": {
        "id": "4didqTYUrLdK"
      },
      "source": [
        "for value in myRange(1,10,3):\n",
        "    print(value)"
      ],
      "execution_count": null,
      "outputs": []
    },
    {
      "cell_type": "code",
      "metadata": {
        "id": "FOrT-9ySrLdP"
      },
      "source": [],
      "execution_count": null,
      "outputs": []
    }
  ]
}